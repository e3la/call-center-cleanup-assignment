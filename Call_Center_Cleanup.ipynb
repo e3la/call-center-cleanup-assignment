{
  "cells": [
    {
      "cell_type": "markdown",
      "id": "331a1c4f",
      "metadata": {
        "id": "331a1c4f"
      },
      "source": [
        "# Call Center Cleanup\n",
        "\n",
        "For this assignment, we will be working with call center data. You can start working on the assignment after the first lesson on Exploratory Data Analysis. Make sure to read the whole assignment before starting anything! As you code along in the Jupyter notebook, you are asked to make note of the results of your analysis. Do so by clicking on the results box and adding your notes beside each question.\n",
        "\n",
        "## Business Issue and Understanding\n",
        "\n",
        "You are working for a company that has two call centers: the North Call Center and the South Call Center. The company is looking to possibly hire five additional reps to enhance customer experience. Your task is to explore how efficient the current reps are in each branch to determine which branch would benefit from additional assistance.\n",
        "\n",
        "### How the Call Center Works\n",
        "\n",
        "Call center representatives are assigned queues. When calls are assigned to a queue, the call is assigned to the next person in line in the queue. After a call is assigned to a representative, the amount of time between assignment and the call starting is divided into busy minutes and not ready minutes. If the call is incoming and a customer is waiting on the phone for a rep, the time is split into three categories: busy minutes, not ready minutes, and incoming call wait time. Once the rep has the customer on the phone, there might be during call wait time, where the call is put on hold while the rep gets an answer for the customer.\n",
        "\n",
        "### Notes about the Dataset\n",
        "\n",
        "If you haven't worked in a call center before, these notes might help you throughout your analysis.\n",
        "\n",
        "* The call purpose is tagged for each call.\n",
        "* The time of the call is tagged in 1 hour blocks starting at 9:00 AM and ending at 5:00 PM.\n",
        "* Calls are tagged as incoming or outgoing.\n",
        "* Reps are assigned to queues. When the reps are working, they take calls in the order of their queue.\n",
        "* A call that is dropped due to technical error or missed by the center because they have reached maximum capacity is a lost call.\n",
        "* An abandoned call is when the customer hangs up because they have been waiting for too long.\n",
        "* Busy Minutes: the amount of time after a call comes in or needs to go out where the assigned rep is not available because they are busy with other customers.\n",
        "* Not Ready Minutes: the amount of time after a call comes in or needs to go out where the assigned rep is not available because they are not ready (for example, getting water).\n",
        "* Incoming Wait Time - amount of time after assigned rep is available to take the call customer waits for representative to pick up a call. This is tracked in seconds.\n",
        "* During Call Wait Time - amount of time during call that customer has to wait for representative\n",
        "\n",
        "## Getting Started\n",
        "\n",
        "You have two CSVs at your disposal, `NorthCallCenter.csv` and `SouthCallCenter.csv`. Import the appropriate libraries and create two dataframes, one called `north_df` and one called `south_df`."
      ]
    },
    {
      "cell_type": "code",
      "execution_count": 1,
      "id": "f362436b",
      "metadata": {
        "id": "f362436b"
      },
      "outputs": [],
      "source": [
        "# Import the appropriate libraries with aliases\n",
        "\n",
        "import pandas as pd\n",
        "import numpy as np\n",
        "\n",
        "# Create two new dataframes\n",
        "\n",
        "north_df = pd.read_csv('https://raw.githubusercontent.com/e3la/call-center-cleanup-assignment/main/NorthCallCenter.csv')\n",
        "south_df = pd.read_csv('https://raw.githubusercontent.com/e3la/call-center-cleanup-assignment/main/SouthCallCenter.csv')\n",
        "\n",
        "#I bring in the csv this way because it works with google colab"
      ]
    },
    {
      "cell_type": "markdown",
      "id": "37f77cd4",
      "metadata": {
        "id": "37f77cd4"
      },
      "source": [
        "<span style=\"background-color:orangered; color:orangered;\">- - - - - - - - - - - - - - - - - - - - - - - - - - - - - - - - - - - - - - - - - - - - - - - - - - - - - - - - - - - - - - - - - - - - - - - - - - - - - - - - - - - - - - - - -</span>"
      ]
    },
    {
      "cell_type": "markdown",
      "id": "b4d3484b",
      "metadata": {
        "id": "b4d3484b"
      },
      "source": [
        "## Exploratory Data Analysis\n",
        "\n",
        "Time to do some EDA! In the process of learning more about the two datasets, answer the following questions. In the code blocks below enter the code used to solve the question.  At the end of the section record your answers by double clicking where asked."
      ]
    },
    {
      "cell_type": "markdown",
      "id": "76898991",
      "metadata": {
        "id": "76898991"
      },
      "source": [
        "#### EDA Question 1A:  How many reps are in the North branch?  "
      ]
    },
    {
      "cell_type": "code",
      "execution_count": 2,
      "id": "ce3eb5e4",
      "metadata": {
        "colab": {
          "base_uri": "https://localhost:8080/"
        },
        "id": "ce3eb5e4",
        "outputId": "e0848edb-360e-475d-de0b-5b150fee244f"
      },
      "outputs": [
        {
          "output_type": "execute_result",
          "data": {
            "text/plain": [
              "Index(['Unnamed: 0', 'Branch', 'Call Purpose', 'Time Block',\n",
              "       'Incoming or Outgoing', 'Queue', 'Rep ID', 'Sale', 'Lost Call',\n",
              "       'Abandoned', 'Busy Minutes', 'Not Ready Minutes', 'Incoming Wait Time',\n",
              "       'During Call Wait Time', 'Calls'],\n",
              "      dtype='object')"
            ]
          },
          "metadata": {},
          "execution_count": 2
        }
      ],
      "source": [
        "#Code Used:\n",
        "north_df.columns\n",
        "#I'm getting each of the columns so I can figure out where the reps will be found"
      ]
    },
    {
      "cell_type": "code",
      "source": [
        "north_df.sample()\n",
        "#just to get a feel for what a row/record looks like"
      ],
      "metadata": {
        "colab": {
          "base_uri": "https://localhost:8080/",
          "height": 214
        },
        "id": "F7ZXN7hafBB3",
        "outputId": "8404d5fe-8107-4288-d46b-9ca0e1e0b4a4"
      },
      "id": "F7ZXN7hafBB3",
      "execution_count": 3,
      "outputs": [
        {
          "output_type": "execute_result",
          "data": {
            "text/plain": [
              "     Unnamed: 0 Branch     Call Purpose Time Block Incoming or Outgoing Queue  \\\n",
              "175         175  North  Product Support   12:00 PM             Outgoing     A   \n",
              "\n",
              "    Rep ID Sale  Lost Call  Abandoned  Busy Minutes  Not Ready Minutes  \\\n",
              "175   Andy   NO          0          0             8                  3   \n",
              "\n",
              "     Incoming Wait Time  During Call Wait Time  Calls  \n",
              "175                 NaN                      4      1  "
            ],
            "text/html": [
              "\n",
              "\n",
              "  <div id=\"df-e245504b-bad6-4807-8ce6-dd45453f107f\">\n",
              "    <div class=\"colab-df-container\">\n",
              "      <div>\n",
              "<style scoped>\n",
              "    .dataframe tbody tr th:only-of-type {\n",
              "        vertical-align: middle;\n",
              "    }\n",
              "\n",
              "    .dataframe tbody tr th {\n",
              "        vertical-align: top;\n",
              "    }\n",
              "\n",
              "    .dataframe thead th {\n",
              "        text-align: right;\n",
              "    }\n",
              "</style>\n",
              "<table border=\"1\" class=\"dataframe\">\n",
              "  <thead>\n",
              "    <tr style=\"text-align: right;\">\n",
              "      <th></th>\n",
              "      <th>Unnamed: 0</th>\n",
              "      <th>Branch</th>\n",
              "      <th>Call Purpose</th>\n",
              "      <th>Time Block</th>\n",
              "      <th>Incoming or Outgoing</th>\n",
              "      <th>Queue</th>\n",
              "      <th>Rep ID</th>\n",
              "      <th>Sale</th>\n",
              "      <th>Lost Call</th>\n",
              "      <th>Abandoned</th>\n",
              "      <th>Busy Minutes</th>\n",
              "      <th>Not Ready Minutes</th>\n",
              "      <th>Incoming Wait Time</th>\n",
              "      <th>During Call Wait Time</th>\n",
              "      <th>Calls</th>\n",
              "    </tr>\n",
              "  </thead>\n",
              "  <tbody>\n",
              "    <tr>\n",
              "      <th>175</th>\n",
              "      <td>175</td>\n",
              "      <td>North</td>\n",
              "      <td>Product Support</td>\n",
              "      <td>12:00 PM</td>\n",
              "      <td>Outgoing</td>\n",
              "      <td>A</td>\n",
              "      <td>Andy</td>\n",
              "      <td>NO</td>\n",
              "      <td>0</td>\n",
              "      <td>0</td>\n",
              "      <td>8</td>\n",
              "      <td>3</td>\n",
              "      <td>NaN</td>\n",
              "      <td>4</td>\n",
              "      <td>1</td>\n",
              "    </tr>\n",
              "  </tbody>\n",
              "</table>\n",
              "</div>\n",
              "      <button class=\"colab-df-convert\" onclick=\"convertToInteractive('df-e245504b-bad6-4807-8ce6-dd45453f107f')\"\n",
              "              title=\"Convert this dataframe to an interactive table.\"\n",
              "              style=\"display:none;\">\n",
              "\n",
              "  <svg xmlns=\"http://www.w3.org/2000/svg\" height=\"24px\"viewBox=\"0 0 24 24\"\n",
              "       width=\"24px\">\n",
              "    <path d=\"M0 0h24v24H0V0z\" fill=\"none\"/>\n",
              "    <path d=\"M18.56 5.44l.94 2.06.94-2.06 2.06-.94-2.06-.94-.94-2.06-.94 2.06-2.06.94zm-11 1L8.5 8.5l.94-2.06 2.06-.94-2.06-.94L8.5 2.5l-.94 2.06-2.06.94zm10 10l.94 2.06.94-2.06 2.06-.94-2.06-.94-.94-2.06-.94 2.06-2.06.94z\"/><path d=\"M17.41 7.96l-1.37-1.37c-.4-.4-.92-.59-1.43-.59-.52 0-1.04.2-1.43.59L10.3 9.45l-7.72 7.72c-.78.78-.78 2.05 0 2.83L4 21.41c.39.39.9.59 1.41.59.51 0 1.02-.2 1.41-.59l7.78-7.78 2.81-2.81c.8-.78.8-2.07 0-2.86zM5.41 20L4 18.59l7.72-7.72 1.47 1.35L5.41 20z\"/>\n",
              "  </svg>\n",
              "      </button>\n",
              "\n",
              "\n",
              "\n",
              "    <div id=\"df-941a4ea5-a722-464b-bf03-a7faa3215a3c\">\n",
              "      <button class=\"colab-df-quickchart\" onclick=\"quickchart('df-941a4ea5-a722-464b-bf03-a7faa3215a3c')\"\n",
              "              title=\"Suggest charts.\"\n",
              "              style=\"display:none;\">\n",
              "\n",
              "<svg xmlns=\"http://www.w3.org/2000/svg\" height=\"24px\"viewBox=\"0 0 24 24\"\n",
              "     width=\"24px\">\n",
              "    <g>\n",
              "        <path d=\"M19 3H5c-1.1 0-2 .9-2 2v14c0 1.1.9 2 2 2h14c1.1 0 2-.9 2-2V5c0-1.1-.9-2-2-2zM9 17H7v-7h2v7zm4 0h-2V7h2v10zm4 0h-2v-4h2v4z\"/>\n",
              "    </g>\n",
              "</svg>\n",
              "      </button>\n",
              "    </div>\n",
              "\n",
              "<style>\n",
              "  .colab-df-quickchart {\n",
              "    background-color: #E8F0FE;\n",
              "    border: none;\n",
              "    border-radius: 50%;\n",
              "    cursor: pointer;\n",
              "    display: none;\n",
              "    fill: #1967D2;\n",
              "    height: 32px;\n",
              "    padding: 0 0 0 0;\n",
              "    width: 32px;\n",
              "  }\n",
              "\n",
              "  .colab-df-quickchart:hover {\n",
              "    background-color: #E2EBFA;\n",
              "    box-shadow: 0px 1px 2px rgba(60, 64, 67, 0.3), 0px 1px 3px 1px rgba(60, 64, 67, 0.15);\n",
              "    fill: #174EA6;\n",
              "  }\n",
              "\n",
              "  [theme=dark] .colab-df-quickchart {\n",
              "    background-color: #3B4455;\n",
              "    fill: #D2E3FC;\n",
              "  }\n",
              "\n",
              "  [theme=dark] .colab-df-quickchart:hover {\n",
              "    background-color: #434B5C;\n",
              "    box-shadow: 0px 1px 3px 1px rgba(0, 0, 0, 0.15);\n",
              "    filter: drop-shadow(0px 1px 2px rgba(0, 0, 0, 0.3));\n",
              "    fill: #FFFFFF;\n",
              "  }\n",
              "</style>\n",
              "\n",
              "    <script>\n",
              "      async function quickchart(key) {\n",
              "        const containerElement = document.querySelector('#' + key);\n",
              "        const charts = await google.colab.kernel.invokeFunction(\n",
              "            'suggestCharts', [key], {});\n",
              "      }\n",
              "    </script>\n",
              "\n",
              "      <script>\n",
              "\n",
              "function displayQuickchartButton(domScope) {\n",
              "  let quickchartButtonEl =\n",
              "    domScope.querySelector('#df-941a4ea5-a722-464b-bf03-a7faa3215a3c button.colab-df-quickchart');\n",
              "  quickchartButtonEl.style.display =\n",
              "    google.colab.kernel.accessAllowed ? 'block' : 'none';\n",
              "}\n",
              "\n",
              "        displayQuickchartButton(document);\n",
              "      </script>\n",
              "      <style>\n",
              "    .colab-df-container {\n",
              "      display:flex;\n",
              "      flex-wrap:wrap;\n",
              "      gap: 12px;\n",
              "    }\n",
              "\n",
              "    .colab-df-convert {\n",
              "      background-color: #E8F0FE;\n",
              "      border: none;\n",
              "      border-radius: 50%;\n",
              "      cursor: pointer;\n",
              "      display: none;\n",
              "      fill: #1967D2;\n",
              "      height: 32px;\n",
              "      padding: 0 0 0 0;\n",
              "      width: 32px;\n",
              "    }\n",
              "\n",
              "    .colab-df-convert:hover {\n",
              "      background-color: #E2EBFA;\n",
              "      box-shadow: 0px 1px 2px rgba(60, 64, 67, 0.3), 0px 1px 3px 1px rgba(60, 64, 67, 0.15);\n",
              "      fill: #174EA6;\n",
              "    }\n",
              "\n",
              "    [theme=dark] .colab-df-convert {\n",
              "      background-color: #3B4455;\n",
              "      fill: #D2E3FC;\n",
              "    }\n",
              "\n",
              "    [theme=dark] .colab-df-convert:hover {\n",
              "      background-color: #434B5C;\n",
              "      box-shadow: 0px 1px 3px 1px rgba(0, 0, 0, 0.15);\n",
              "      filter: drop-shadow(0px 1px 2px rgba(0, 0, 0, 0.3));\n",
              "      fill: #FFFFFF;\n",
              "    }\n",
              "  </style>\n",
              "\n",
              "      <script>\n",
              "        const buttonEl =\n",
              "          document.querySelector('#df-e245504b-bad6-4807-8ce6-dd45453f107f button.colab-df-convert');\n",
              "        buttonEl.style.display =\n",
              "          google.colab.kernel.accessAllowed ? 'block' : 'none';\n",
              "\n",
              "        async function convertToInteractive(key) {\n",
              "          const element = document.querySelector('#df-e245504b-bad6-4807-8ce6-dd45453f107f');\n",
              "          const dataTable =\n",
              "            await google.colab.kernel.invokeFunction('convertToInteractive',\n",
              "                                                     [key], {});\n",
              "          if (!dataTable) return;\n",
              "\n",
              "          const docLinkHtml = 'Like what you see? Visit the ' +\n",
              "            '<a target=\"_blank\" href=https://colab.research.google.com/notebooks/data_table.ipynb>data table notebook</a>'\n",
              "            + ' to learn more about interactive tables.';\n",
              "          element.innerHTML = '';\n",
              "          dataTable['output_type'] = 'display_data';\n",
              "          await google.colab.output.renderOutput(dataTable, element);\n",
              "          const docLink = document.createElement('div');\n",
              "          docLink.innerHTML = docLinkHtml;\n",
              "          element.appendChild(docLink);\n",
              "        }\n",
              "      </script>\n",
              "    </div>\n",
              "  </div>\n"
            ]
          },
          "metadata": {},
          "execution_count": 3
        }
      ]
    },
    {
      "cell_type": "code",
      "source": [
        "rep_count_north = north_df['Rep ID'].value_counts()\n",
        "#by looking in the column of 'Rep ID' I can run the method .value_counts to count how many are in the column\n",
        "rep_count_north"
      ],
      "metadata": {
        "colab": {
          "base_uri": "https://localhost:8080/"
        },
        "id": "PJRWGbSNayfj",
        "outputId": "7a3a7ef8-c66d-4a06-b57f-046e7c1a1360"
      },
      "id": "PJRWGbSNayfj",
      "execution_count": 4,
      "outputs": [
        {
          "output_type": "execute_result",
          "data": {
            "text/plain": [
              "Brent     37\n",
              "Lilly     30\n",
              "Todd      29\n",
              "Duke      29\n",
              "Joe       26\n",
              "Cam       24\n",
              "Xander    24\n",
              "Amanda    23\n",
              "Andy      23\n",
              "Name: Rep ID, dtype: int64"
            ]
          },
          "metadata": {},
          "execution_count": 4
        }
      ]
    },
    {
      "cell_type": "markdown",
      "source": [
        "There are 9 reps at the North Branch."
      ],
      "metadata": {
        "id": "L15wlRDtb7VF"
      },
      "id": "L15wlRDtb7VF"
    },
    {
      "cell_type": "markdown",
      "id": "2a9b34d8",
      "metadata": {
        "id": "2a9b34d8"
      },
      "source": [
        "#### EDA Question 1B:  How many reps are in the South branch?  "
      ]
    },
    {
      "cell_type": "code",
      "execution_count": 5,
      "id": "3c715bbf",
      "metadata": {
        "colab": {
          "base_uri": "https://localhost:8080/"
        },
        "id": "3c715bbf",
        "outputId": "702aa9e6-9bb2-4dfe-a121-0e03534e0af1"
      },
      "outputs": [
        {
          "output_type": "execute_result",
          "data": {
            "text/plain": [
              "Eric      35\n",
              "Randy     33\n",
              "Sandy     32\n",
              "Helga     31\n",
              "Kate      29\n",
              "George    29\n",
              "Karl      28\n",
              "Susan     26\n",
              "Josh      26\n",
              "Sharon    25\n",
              "Alice     20\n",
              "Name: Rep ID, dtype: int64"
            ]
          },
          "metadata": {},
          "execution_count": 5
        }
      ],
      "source": [
        "#Code Used:\n",
        "rep_count_south = south_df['Rep ID'].value_counts()\n",
        "#by looking in the column of 'Rep ID' I can run the method .value_counts to count how many are in the column\n",
        "rep_count_south"
      ]
    },
    {
      "cell_type": "markdown",
      "source": [
        "There are 11 reps at the South Branch."
      ],
      "metadata": {
        "id": "i3MWz3nQcOW1"
      },
      "id": "i3MWz3nQcOW1"
    },
    {
      "cell_type": "markdown",
      "id": "a872f045",
      "metadata": {
        "id": "a872f045"
      },
      "source": [
        "#### EDA Question 2A:  What is the average busy minutes, not ready minutes, incoming wait time, and during call wait time for the North branch?"
      ]
    },
    {
      "cell_type": "code",
      "execution_count": 6,
      "id": "3759305f",
      "metadata": {
        "colab": {
          "base_uri": "https://localhost:8080/",
          "height": 379
        },
        "id": "3759305f",
        "outputId": "9d9b2f7a-a9a6-4880-da54-c4433fce8c87"
      },
      "outputs": [
        {
          "output_type": "execute_result",
          "data": {
            "text/plain": [
              "       Unnamed: 0   Lost Call   Abandoned  Busy Minutes  Not Ready Minutes  \\\n",
              "count  245.000000  245.000000  245.000000    245.000000         245.000000   \n",
              "mean   122.000000    0.020408    0.028571      9.987755           1.914286   \n",
              "std     70.869599    0.141681    0.166940      1.403980           0.771416   \n",
              "min      0.000000    0.000000    0.000000      8.000000           1.000000   \n",
              "25%     61.000000    0.000000    0.000000      9.000000           1.000000   \n",
              "50%    122.000000    0.000000    0.000000     10.000000           2.000000   \n",
              "75%    183.000000    0.000000    0.000000     11.000000           3.000000   \n",
              "max    244.000000    1.000000    1.000000     12.000000           3.000000   \n",
              "\n",
              "       Incoming Wait Time  During Call Wait Time  Calls  \n",
              "count           82.000000             245.000000  245.0  \n",
              "mean             3.048780               2.967347    1.0  \n",
              "std              1.456382               0.843827    0.0  \n",
              "min              1.000000               2.000000    1.0  \n",
              "25%              2.000000               2.000000    1.0  \n",
              "50%              3.000000               3.000000    1.0  \n",
              "75%              4.000000               4.000000    1.0  \n",
              "max              5.000000               4.000000    1.0  "
            ],
            "text/html": [
              "\n",
              "\n",
              "  <div id=\"df-163a34ef-f427-45d4-a579-03191595ca47\">\n",
              "    <div class=\"colab-df-container\">\n",
              "      <div>\n",
              "<style scoped>\n",
              "    .dataframe tbody tr th:only-of-type {\n",
              "        vertical-align: middle;\n",
              "    }\n",
              "\n",
              "    .dataframe tbody tr th {\n",
              "        vertical-align: top;\n",
              "    }\n",
              "\n",
              "    .dataframe thead th {\n",
              "        text-align: right;\n",
              "    }\n",
              "</style>\n",
              "<table border=\"1\" class=\"dataframe\">\n",
              "  <thead>\n",
              "    <tr style=\"text-align: right;\">\n",
              "      <th></th>\n",
              "      <th>Unnamed: 0</th>\n",
              "      <th>Lost Call</th>\n",
              "      <th>Abandoned</th>\n",
              "      <th>Busy Minutes</th>\n",
              "      <th>Not Ready Minutes</th>\n",
              "      <th>Incoming Wait Time</th>\n",
              "      <th>During Call Wait Time</th>\n",
              "      <th>Calls</th>\n",
              "    </tr>\n",
              "  </thead>\n",
              "  <tbody>\n",
              "    <tr>\n",
              "      <th>count</th>\n",
              "      <td>245.000000</td>\n",
              "      <td>245.000000</td>\n",
              "      <td>245.000000</td>\n",
              "      <td>245.000000</td>\n",
              "      <td>245.000000</td>\n",
              "      <td>82.000000</td>\n",
              "      <td>245.000000</td>\n",
              "      <td>245.0</td>\n",
              "    </tr>\n",
              "    <tr>\n",
              "      <th>mean</th>\n",
              "      <td>122.000000</td>\n",
              "      <td>0.020408</td>\n",
              "      <td>0.028571</td>\n",
              "      <td>9.987755</td>\n",
              "      <td>1.914286</td>\n",
              "      <td>3.048780</td>\n",
              "      <td>2.967347</td>\n",
              "      <td>1.0</td>\n",
              "    </tr>\n",
              "    <tr>\n",
              "      <th>std</th>\n",
              "      <td>70.869599</td>\n",
              "      <td>0.141681</td>\n",
              "      <td>0.166940</td>\n",
              "      <td>1.403980</td>\n",
              "      <td>0.771416</td>\n",
              "      <td>1.456382</td>\n",
              "      <td>0.843827</td>\n",
              "      <td>0.0</td>\n",
              "    </tr>\n",
              "    <tr>\n",
              "      <th>min</th>\n",
              "      <td>0.000000</td>\n",
              "      <td>0.000000</td>\n",
              "      <td>0.000000</td>\n",
              "      <td>8.000000</td>\n",
              "      <td>1.000000</td>\n",
              "      <td>1.000000</td>\n",
              "      <td>2.000000</td>\n",
              "      <td>1.0</td>\n",
              "    </tr>\n",
              "    <tr>\n",
              "      <th>25%</th>\n",
              "      <td>61.000000</td>\n",
              "      <td>0.000000</td>\n",
              "      <td>0.000000</td>\n",
              "      <td>9.000000</td>\n",
              "      <td>1.000000</td>\n",
              "      <td>2.000000</td>\n",
              "      <td>2.000000</td>\n",
              "      <td>1.0</td>\n",
              "    </tr>\n",
              "    <tr>\n",
              "      <th>50%</th>\n",
              "      <td>122.000000</td>\n",
              "      <td>0.000000</td>\n",
              "      <td>0.000000</td>\n",
              "      <td>10.000000</td>\n",
              "      <td>2.000000</td>\n",
              "      <td>3.000000</td>\n",
              "      <td>3.000000</td>\n",
              "      <td>1.0</td>\n",
              "    </tr>\n",
              "    <tr>\n",
              "      <th>75%</th>\n",
              "      <td>183.000000</td>\n",
              "      <td>0.000000</td>\n",
              "      <td>0.000000</td>\n",
              "      <td>11.000000</td>\n",
              "      <td>3.000000</td>\n",
              "      <td>4.000000</td>\n",
              "      <td>4.000000</td>\n",
              "      <td>1.0</td>\n",
              "    </tr>\n",
              "    <tr>\n",
              "      <th>max</th>\n",
              "      <td>244.000000</td>\n",
              "      <td>1.000000</td>\n",
              "      <td>1.000000</td>\n",
              "      <td>12.000000</td>\n",
              "      <td>3.000000</td>\n",
              "      <td>5.000000</td>\n",
              "      <td>4.000000</td>\n",
              "      <td>1.0</td>\n",
              "    </tr>\n",
              "  </tbody>\n",
              "</table>\n",
              "</div>\n",
              "      <button class=\"colab-df-convert\" onclick=\"convertToInteractive('df-163a34ef-f427-45d4-a579-03191595ca47')\"\n",
              "              title=\"Convert this dataframe to an interactive table.\"\n",
              "              style=\"display:none;\">\n",
              "\n",
              "  <svg xmlns=\"http://www.w3.org/2000/svg\" height=\"24px\"viewBox=\"0 0 24 24\"\n",
              "       width=\"24px\">\n",
              "    <path d=\"M0 0h24v24H0V0z\" fill=\"none\"/>\n",
              "    <path d=\"M18.56 5.44l.94 2.06.94-2.06 2.06-.94-2.06-.94-.94-2.06-.94 2.06-2.06.94zm-11 1L8.5 8.5l.94-2.06 2.06-.94-2.06-.94L8.5 2.5l-.94 2.06-2.06.94zm10 10l.94 2.06.94-2.06 2.06-.94-2.06-.94-.94-2.06-.94 2.06-2.06.94z\"/><path d=\"M17.41 7.96l-1.37-1.37c-.4-.4-.92-.59-1.43-.59-.52 0-1.04.2-1.43.59L10.3 9.45l-7.72 7.72c-.78.78-.78 2.05 0 2.83L4 21.41c.39.39.9.59 1.41.59.51 0 1.02-.2 1.41-.59l7.78-7.78 2.81-2.81c.8-.78.8-2.07 0-2.86zM5.41 20L4 18.59l7.72-7.72 1.47 1.35L5.41 20z\"/>\n",
              "  </svg>\n",
              "      </button>\n",
              "\n",
              "\n",
              "\n",
              "    <div id=\"df-a2702409-7727-456d-926d-e926272a7c80\">\n",
              "      <button class=\"colab-df-quickchart\" onclick=\"quickchart('df-a2702409-7727-456d-926d-e926272a7c80')\"\n",
              "              title=\"Suggest charts.\"\n",
              "              style=\"display:none;\">\n",
              "\n",
              "<svg xmlns=\"http://www.w3.org/2000/svg\" height=\"24px\"viewBox=\"0 0 24 24\"\n",
              "     width=\"24px\">\n",
              "    <g>\n",
              "        <path d=\"M19 3H5c-1.1 0-2 .9-2 2v14c0 1.1.9 2 2 2h14c1.1 0 2-.9 2-2V5c0-1.1-.9-2-2-2zM9 17H7v-7h2v7zm4 0h-2V7h2v10zm4 0h-2v-4h2v4z\"/>\n",
              "    </g>\n",
              "</svg>\n",
              "      </button>\n",
              "    </div>\n",
              "\n",
              "<style>\n",
              "  .colab-df-quickchart {\n",
              "    background-color: #E8F0FE;\n",
              "    border: none;\n",
              "    border-radius: 50%;\n",
              "    cursor: pointer;\n",
              "    display: none;\n",
              "    fill: #1967D2;\n",
              "    height: 32px;\n",
              "    padding: 0 0 0 0;\n",
              "    width: 32px;\n",
              "  }\n",
              "\n",
              "  .colab-df-quickchart:hover {\n",
              "    background-color: #E2EBFA;\n",
              "    box-shadow: 0px 1px 2px rgba(60, 64, 67, 0.3), 0px 1px 3px 1px rgba(60, 64, 67, 0.15);\n",
              "    fill: #174EA6;\n",
              "  }\n",
              "\n",
              "  [theme=dark] .colab-df-quickchart {\n",
              "    background-color: #3B4455;\n",
              "    fill: #D2E3FC;\n",
              "  }\n",
              "\n",
              "  [theme=dark] .colab-df-quickchart:hover {\n",
              "    background-color: #434B5C;\n",
              "    box-shadow: 0px 1px 3px 1px rgba(0, 0, 0, 0.15);\n",
              "    filter: drop-shadow(0px 1px 2px rgba(0, 0, 0, 0.3));\n",
              "    fill: #FFFFFF;\n",
              "  }\n",
              "</style>\n",
              "\n",
              "    <script>\n",
              "      async function quickchart(key) {\n",
              "        const containerElement = document.querySelector('#' + key);\n",
              "        const charts = await google.colab.kernel.invokeFunction(\n",
              "            'suggestCharts', [key], {});\n",
              "      }\n",
              "    </script>\n",
              "\n",
              "      <script>\n",
              "\n",
              "function displayQuickchartButton(domScope) {\n",
              "  let quickchartButtonEl =\n",
              "    domScope.querySelector('#df-a2702409-7727-456d-926d-e926272a7c80 button.colab-df-quickchart');\n",
              "  quickchartButtonEl.style.display =\n",
              "    google.colab.kernel.accessAllowed ? 'block' : 'none';\n",
              "}\n",
              "\n",
              "        displayQuickchartButton(document);\n",
              "      </script>\n",
              "      <style>\n",
              "    .colab-df-container {\n",
              "      display:flex;\n",
              "      flex-wrap:wrap;\n",
              "      gap: 12px;\n",
              "    }\n",
              "\n",
              "    .colab-df-convert {\n",
              "      background-color: #E8F0FE;\n",
              "      border: none;\n",
              "      border-radius: 50%;\n",
              "      cursor: pointer;\n",
              "      display: none;\n",
              "      fill: #1967D2;\n",
              "      height: 32px;\n",
              "      padding: 0 0 0 0;\n",
              "      width: 32px;\n",
              "    }\n",
              "\n",
              "    .colab-df-convert:hover {\n",
              "      background-color: #E2EBFA;\n",
              "      box-shadow: 0px 1px 2px rgba(60, 64, 67, 0.3), 0px 1px 3px 1px rgba(60, 64, 67, 0.15);\n",
              "      fill: #174EA6;\n",
              "    }\n",
              "\n",
              "    [theme=dark] .colab-df-convert {\n",
              "      background-color: #3B4455;\n",
              "      fill: #D2E3FC;\n",
              "    }\n",
              "\n",
              "    [theme=dark] .colab-df-convert:hover {\n",
              "      background-color: #434B5C;\n",
              "      box-shadow: 0px 1px 3px 1px rgba(0, 0, 0, 0.15);\n",
              "      filter: drop-shadow(0px 1px 2px rgba(0, 0, 0, 0.3));\n",
              "      fill: #FFFFFF;\n",
              "    }\n",
              "  </style>\n",
              "\n",
              "      <script>\n",
              "        const buttonEl =\n",
              "          document.querySelector('#df-163a34ef-f427-45d4-a579-03191595ca47 button.colab-df-convert');\n",
              "        buttonEl.style.display =\n",
              "          google.colab.kernel.accessAllowed ? 'block' : 'none';\n",
              "\n",
              "        async function convertToInteractive(key) {\n",
              "          const element = document.querySelector('#df-163a34ef-f427-45d4-a579-03191595ca47');\n",
              "          const dataTable =\n",
              "            await google.colab.kernel.invokeFunction('convertToInteractive',\n",
              "                                                     [key], {});\n",
              "          if (!dataTable) return;\n",
              "\n",
              "          const docLinkHtml = 'Like what you see? Visit the ' +\n",
              "            '<a target=\"_blank\" href=https://colab.research.google.com/notebooks/data_table.ipynb>data table notebook</a>'\n",
              "            + ' to learn more about interactive tables.';\n",
              "          element.innerHTML = '';\n",
              "          dataTable['output_type'] = 'display_data';\n",
              "          await google.colab.output.renderOutput(dataTable, element);\n",
              "          const docLink = document.createElement('div');\n",
              "          docLink.innerHTML = docLinkHtml;\n",
              "          element.appendChild(docLink);\n",
              "        }\n",
              "      </script>\n",
              "    </div>\n",
              "  </div>\n"
            ]
          },
          "metadata": {},
          "execution_count": 6
        }
      ],
      "source": [
        "#Code Used:\n",
        "north_df.describe()\n",
        "#I take the data, it's a dataframe, and I use describe, which does math on all the number stuff - summary of main statistics, which includes mean / average which is what the question is looking for"
      ]
    },
    {
      "cell_type": "markdown",
      "source": [
        "The average Busy Minutes is 9.987755<br>\n",
        "The average Not Ready Minutes\tis 1.914286\t<br>\n",
        "The averge Incoming Wait Time\tis 3.048780\t<br>\n",
        "The average During Call Wait Time\tis 2.967347\t<br>\n",
        "at the North branch"
      ],
      "metadata": {
        "id": "Q9heujx7eRQE"
      },
      "id": "Q9heujx7eRQE"
    },
    {
      "cell_type": "markdown",
      "id": "3851cf3e",
      "metadata": {
        "id": "3851cf3e"
      },
      "source": [
        "#### EDA Question 2B:  What is the average busy minutes, not ready minutes, incoming wait time, and during call wait time for the South branch?"
      ]
    },
    {
      "cell_type": "code",
      "execution_count": 7,
      "id": "a77ec152",
      "metadata": {
        "colab": {
          "base_uri": "https://localhost:8080/",
          "height": 379
        },
        "id": "a77ec152",
        "outputId": "28665306-8559-40eb-f534-45d142312a4e"
      },
      "outputs": [
        {
          "output_type": "execute_result",
          "data": {
            "text/plain": [
              "       Unnamed: 0   Lost Call   Abandoned  Busy Minutes  Not Ready Minutes  \\\n",
              "count  314.000000  314.000000  314.000000     314.00000         314.000000   \n",
              "mean   156.500000    0.035032    0.012739      10.05414           1.910828   \n",
              "std     90.788215    0.184154    0.112324       1.40751           0.860016   \n",
              "min      0.000000    0.000000    0.000000       8.00000           1.000000   \n",
              "25%     78.250000    0.000000    0.000000       9.00000           1.000000   \n",
              "50%    156.500000    0.000000    0.000000      10.00000           2.000000   \n",
              "75%    234.750000    0.000000    0.000000      11.00000           3.000000   \n",
              "max    313.000000    1.000000    1.000000      12.00000           3.000000   \n",
              "\n",
              "       Incoming Wait Time  During Call Wait Time  Calls  \n",
              "count          126.000000             314.000000  314.0  \n",
              "mean             3.000000               3.076433    1.0  \n",
              "std              1.308434               0.819424    0.0  \n",
              "min              1.000000               2.000000    1.0  \n",
              "25%              2.000000               2.000000    1.0  \n",
              "50%              3.000000               3.000000    1.0  \n",
              "75%              4.000000               4.000000    1.0  \n",
              "max              5.000000               4.000000    1.0  "
            ],
            "text/html": [
              "\n",
              "\n",
              "  <div id=\"df-c1ed0919-70c4-427e-a379-b25b02e552ba\">\n",
              "    <div class=\"colab-df-container\">\n",
              "      <div>\n",
              "<style scoped>\n",
              "    .dataframe tbody tr th:only-of-type {\n",
              "        vertical-align: middle;\n",
              "    }\n",
              "\n",
              "    .dataframe tbody tr th {\n",
              "        vertical-align: top;\n",
              "    }\n",
              "\n",
              "    .dataframe thead th {\n",
              "        text-align: right;\n",
              "    }\n",
              "</style>\n",
              "<table border=\"1\" class=\"dataframe\">\n",
              "  <thead>\n",
              "    <tr style=\"text-align: right;\">\n",
              "      <th></th>\n",
              "      <th>Unnamed: 0</th>\n",
              "      <th>Lost Call</th>\n",
              "      <th>Abandoned</th>\n",
              "      <th>Busy Minutes</th>\n",
              "      <th>Not Ready Minutes</th>\n",
              "      <th>Incoming Wait Time</th>\n",
              "      <th>During Call Wait Time</th>\n",
              "      <th>Calls</th>\n",
              "    </tr>\n",
              "  </thead>\n",
              "  <tbody>\n",
              "    <tr>\n",
              "      <th>count</th>\n",
              "      <td>314.000000</td>\n",
              "      <td>314.000000</td>\n",
              "      <td>314.000000</td>\n",
              "      <td>314.00000</td>\n",
              "      <td>314.000000</td>\n",
              "      <td>126.000000</td>\n",
              "      <td>314.000000</td>\n",
              "      <td>314.0</td>\n",
              "    </tr>\n",
              "    <tr>\n",
              "      <th>mean</th>\n",
              "      <td>156.500000</td>\n",
              "      <td>0.035032</td>\n",
              "      <td>0.012739</td>\n",
              "      <td>10.05414</td>\n",
              "      <td>1.910828</td>\n",
              "      <td>3.000000</td>\n",
              "      <td>3.076433</td>\n",
              "      <td>1.0</td>\n",
              "    </tr>\n",
              "    <tr>\n",
              "      <th>std</th>\n",
              "      <td>90.788215</td>\n",
              "      <td>0.184154</td>\n",
              "      <td>0.112324</td>\n",
              "      <td>1.40751</td>\n",
              "      <td>0.860016</td>\n",
              "      <td>1.308434</td>\n",
              "      <td>0.819424</td>\n",
              "      <td>0.0</td>\n",
              "    </tr>\n",
              "    <tr>\n",
              "      <th>min</th>\n",
              "      <td>0.000000</td>\n",
              "      <td>0.000000</td>\n",
              "      <td>0.000000</td>\n",
              "      <td>8.00000</td>\n",
              "      <td>1.000000</td>\n",
              "      <td>1.000000</td>\n",
              "      <td>2.000000</td>\n",
              "      <td>1.0</td>\n",
              "    </tr>\n",
              "    <tr>\n",
              "      <th>25%</th>\n",
              "      <td>78.250000</td>\n",
              "      <td>0.000000</td>\n",
              "      <td>0.000000</td>\n",
              "      <td>9.00000</td>\n",
              "      <td>1.000000</td>\n",
              "      <td>2.000000</td>\n",
              "      <td>2.000000</td>\n",
              "      <td>1.0</td>\n",
              "    </tr>\n",
              "    <tr>\n",
              "      <th>50%</th>\n",
              "      <td>156.500000</td>\n",
              "      <td>0.000000</td>\n",
              "      <td>0.000000</td>\n",
              "      <td>10.00000</td>\n",
              "      <td>2.000000</td>\n",
              "      <td>3.000000</td>\n",
              "      <td>3.000000</td>\n",
              "      <td>1.0</td>\n",
              "    </tr>\n",
              "    <tr>\n",
              "      <th>75%</th>\n",
              "      <td>234.750000</td>\n",
              "      <td>0.000000</td>\n",
              "      <td>0.000000</td>\n",
              "      <td>11.00000</td>\n",
              "      <td>3.000000</td>\n",
              "      <td>4.000000</td>\n",
              "      <td>4.000000</td>\n",
              "      <td>1.0</td>\n",
              "    </tr>\n",
              "    <tr>\n",
              "      <th>max</th>\n",
              "      <td>313.000000</td>\n",
              "      <td>1.000000</td>\n",
              "      <td>1.000000</td>\n",
              "      <td>12.00000</td>\n",
              "      <td>3.000000</td>\n",
              "      <td>5.000000</td>\n",
              "      <td>4.000000</td>\n",
              "      <td>1.0</td>\n",
              "    </tr>\n",
              "  </tbody>\n",
              "</table>\n",
              "</div>\n",
              "      <button class=\"colab-df-convert\" onclick=\"convertToInteractive('df-c1ed0919-70c4-427e-a379-b25b02e552ba')\"\n",
              "              title=\"Convert this dataframe to an interactive table.\"\n",
              "              style=\"display:none;\">\n",
              "\n",
              "  <svg xmlns=\"http://www.w3.org/2000/svg\" height=\"24px\"viewBox=\"0 0 24 24\"\n",
              "       width=\"24px\">\n",
              "    <path d=\"M0 0h24v24H0V0z\" fill=\"none\"/>\n",
              "    <path d=\"M18.56 5.44l.94 2.06.94-2.06 2.06-.94-2.06-.94-.94-2.06-.94 2.06-2.06.94zm-11 1L8.5 8.5l.94-2.06 2.06-.94-2.06-.94L8.5 2.5l-.94 2.06-2.06.94zm10 10l.94 2.06.94-2.06 2.06-.94-2.06-.94-.94-2.06-.94 2.06-2.06.94z\"/><path d=\"M17.41 7.96l-1.37-1.37c-.4-.4-.92-.59-1.43-.59-.52 0-1.04.2-1.43.59L10.3 9.45l-7.72 7.72c-.78.78-.78 2.05 0 2.83L4 21.41c.39.39.9.59 1.41.59.51 0 1.02-.2 1.41-.59l7.78-7.78 2.81-2.81c.8-.78.8-2.07 0-2.86zM5.41 20L4 18.59l7.72-7.72 1.47 1.35L5.41 20z\"/>\n",
              "  </svg>\n",
              "      </button>\n",
              "\n",
              "\n",
              "\n",
              "    <div id=\"df-221730cf-4069-4b1c-9bb9-6ae056994d60\">\n",
              "      <button class=\"colab-df-quickchart\" onclick=\"quickchart('df-221730cf-4069-4b1c-9bb9-6ae056994d60')\"\n",
              "              title=\"Suggest charts.\"\n",
              "              style=\"display:none;\">\n",
              "\n",
              "<svg xmlns=\"http://www.w3.org/2000/svg\" height=\"24px\"viewBox=\"0 0 24 24\"\n",
              "     width=\"24px\">\n",
              "    <g>\n",
              "        <path d=\"M19 3H5c-1.1 0-2 .9-2 2v14c0 1.1.9 2 2 2h14c1.1 0 2-.9 2-2V5c0-1.1-.9-2-2-2zM9 17H7v-7h2v7zm4 0h-2V7h2v10zm4 0h-2v-4h2v4z\"/>\n",
              "    </g>\n",
              "</svg>\n",
              "      </button>\n",
              "    </div>\n",
              "\n",
              "<style>\n",
              "  .colab-df-quickchart {\n",
              "    background-color: #E8F0FE;\n",
              "    border: none;\n",
              "    border-radius: 50%;\n",
              "    cursor: pointer;\n",
              "    display: none;\n",
              "    fill: #1967D2;\n",
              "    height: 32px;\n",
              "    padding: 0 0 0 0;\n",
              "    width: 32px;\n",
              "  }\n",
              "\n",
              "  .colab-df-quickchart:hover {\n",
              "    background-color: #E2EBFA;\n",
              "    box-shadow: 0px 1px 2px rgba(60, 64, 67, 0.3), 0px 1px 3px 1px rgba(60, 64, 67, 0.15);\n",
              "    fill: #174EA6;\n",
              "  }\n",
              "\n",
              "  [theme=dark] .colab-df-quickchart {\n",
              "    background-color: #3B4455;\n",
              "    fill: #D2E3FC;\n",
              "  }\n",
              "\n",
              "  [theme=dark] .colab-df-quickchart:hover {\n",
              "    background-color: #434B5C;\n",
              "    box-shadow: 0px 1px 3px 1px rgba(0, 0, 0, 0.15);\n",
              "    filter: drop-shadow(0px 1px 2px rgba(0, 0, 0, 0.3));\n",
              "    fill: #FFFFFF;\n",
              "  }\n",
              "</style>\n",
              "\n",
              "    <script>\n",
              "      async function quickchart(key) {\n",
              "        const containerElement = document.querySelector('#' + key);\n",
              "        const charts = await google.colab.kernel.invokeFunction(\n",
              "            'suggestCharts', [key], {});\n",
              "      }\n",
              "    </script>\n",
              "\n",
              "      <script>\n",
              "\n",
              "function displayQuickchartButton(domScope) {\n",
              "  let quickchartButtonEl =\n",
              "    domScope.querySelector('#df-221730cf-4069-4b1c-9bb9-6ae056994d60 button.colab-df-quickchart');\n",
              "  quickchartButtonEl.style.display =\n",
              "    google.colab.kernel.accessAllowed ? 'block' : 'none';\n",
              "}\n",
              "\n",
              "        displayQuickchartButton(document);\n",
              "      </script>\n",
              "      <style>\n",
              "    .colab-df-container {\n",
              "      display:flex;\n",
              "      flex-wrap:wrap;\n",
              "      gap: 12px;\n",
              "    }\n",
              "\n",
              "    .colab-df-convert {\n",
              "      background-color: #E8F0FE;\n",
              "      border: none;\n",
              "      border-radius: 50%;\n",
              "      cursor: pointer;\n",
              "      display: none;\n",
              "      fill: #1967D2;\n",
              "      height: 32px;\n",
              "      padding: 0 0 0 0;\n",
              "      width: 32px;\n",
              "    }\n",
              "\n",
              "    .colab-df-convert:hover {\n",
              "      background-color: #E2EBFA;\n",
              "      box-shadow: 0px 1px 2px rgba(60, 64, 67, 0.3), 0px 1px 3px 1px rgba(60, 64, 67, 0.15);\n",
              "      fill: #174EA6;\n",
              "    }\n",
              "\n",
              "    [theme=dark] .colab-df-convert {\n",
              "      background-color: #3B4455;\n",
              "      fill: #D2E3FC;\n",
              "    }\n",
              "\n",
              "    [theme=dark] .colab-df-convert:hover {\n",
              "      background-color: #434B5C;\n",
              "      box-shadow: 0px 1px 3px 1px rgba(0, 0, 0, 0.15);\n",
              "      filter: drop-shadow(0px 1px 2px rgba(0, 0, 0, 0.3));\n",
              "      fill: #FFFFFF;\n",
              "    }\n",
              "  </style>\n",
              "\n",
              "      <script>\n",
              "        const buttonEl =\n",
              "          document.querySelector('#df-c1ed0919-70c4-427e-a379-b25b02e552ba button.colab-df-convert');\n",
              "        buttonEl.style.display =\n",
              "          google.colab.kernel.accessAllowed ? 'block' : 'none';\n",
              "\n",
              "        async function convertToInteractive(key) {\n",
              "          const element = document.querySelector('#df-c1ed0919-70c4-427e-a379-b25b02e552ba');\n",
              "          const dataTable =\n",
              "            await google.colab.kernel.invokeFunction('convertToInteractive',\n",
              "                                                     [key], {});\n",
              "          if (!dataTable) return;\n",
              "\n",
              "          const docLinkHtml = 'Like what you see? Visit the ' +\n",
              "            '<a target=\"_blank\" href=https://colab.research.google.com/notebooks/data_table.ipynb>data table notebook</a>'\n",
              "            + ' to learn more about interactive tables.';\n",
              "          element.innerHTML = '';\n",
              "          dataTable['output_type'] = 'display_data';\n",
              "          await google.colab.output.renderOutput(dataTable, element);\n",
              "          const docLink = document.createElement('div');\n",
              "          docLink.innerHTML = docLinkHtml;\n",
              "          element.appendChild(docLink);\n",
              "        }\n",
              "      </script>\n",
              "    </div>\n",
              "  </div>\n"
            ]
          },
          "metadata": {},
          "execution_count": 7
        }
      ],
      "source": [
        "#Code Used:\n",
        "south_df.describe()\n",
        "#I take the data, it's a dataframe, and I use describe, which does math on all the number stuff - summary of main statistics, which includes mean / average which is what the question is looking for\n"
      ]
    },
    {
      "cell_type": "markdown",
      "source": [
        "The average Busy Minutes is 10.05414\t<br>\n",
        "The average Not Ready Minutes\tis 1.910828\t<br>\n",
        "The averge Incoming Wait Time\tis 3.0\t<br>\n",
        "The average During Call Wait Time\tis 3.076433\t<br>\n",
        "at the South branch"
      ],
      "metadata": {
        "id": "f2L7rqlBetJF"
      },
      "id": "f2L7rqlBetJF"
    },
    {
      "cell_type": "markdown",
      "id": "75915553",
      "metadata": {
        "id": "75915553"
      },
      "source": [
        "#### EDA Question 3:  What is the number of calls taken for each time block(Both North and South combined)?"
      ]
    },
    {
      "cell_type": "code",
      "execution_count": 8,
      "id": "49566936",
      "metadata": {
        "colab": {
          "base_uri": "https://localhost:8080/"
        },
        "id": "49566936",
        "outputId": "9574e716-a152-40e1-a5ce-daf91c67d0ea"
      },
      "outputs": [
        {
          "output_type": "execute_result",
          "data": {
            "text/plain": [
              "12:00 PM    45\n",
              "10:00 AM    43\n",
              "2:00 PM     35\n",
              "3:00 PM     30\n",
              "4:00 PM     28\n",
              "11:00 AM    25\n",
              "1:00 PM     17\n",
              "5:00 PM     17\n",
              "9:00 AM      5\n",
              "Name: Time Block, dtype: int64"
            ]
          },
          "metadata": {},
          "execution_count": 8
        }
      ],
      "source": [
        "from os.path import join\n",
        "# Code Used:\n",
        "north_time_counts = north_df['Time Block'].value_counts()\n",
        "#looking at the north dataframe in the Time Block column to find the number of calls\n",
        "north_time_counts\n"
      ]
    },
    {
      "cell_type": "code",
      "source": [
        "south_time_counts = south_df['Time Block'].value_counts()\n",
        "#now I'm looking at the south dataframe in the Time Block column to find the number of calls\n",
        "south_time_counts"
      ],
      "metadata": {
        "colab": {
          "base_uri": "https://localhost:8080/"
        },
        "id": "1dNvvvQHg1rc",
        "outputId": "a78c58ab-9eef-4105-8f13-166d75a0327a"
      },
      "id": "1dNvvvQHg1rc",
      "execution_count": 9,
      "outputs": [
        {
          "output_type": "execute_result",
          "data": {
            "text/plain": [
              "12:00 PM    75\n",
              "10:00 AM    56\n",
              "3:00 PM     43\n",
              "11:00 AM    31\n",
              "2:00 PM     30\n",
              "5:00 PM     26\n",
              "4:00 PM     25\n",
              "1:00 PM     23\n",
              "9:00 AM      5\n",
              "Name: Time Block, dtype: int64"
            ]
          },
          "metadata": {},
          "execution_count": 9
        }
      ]
    },
    {
      "cell_type": "code",
      "source": [
        "combo_counts = south_time_counts.add(north_time_counts)\n",
        "#this is a combo of both the count of calls in both call centers, taking the south and adding the north\n",
        "combo_counts"
      ],
      "metadata": {
        "colab": {
          "base_uri": "https://localhost:8080/"
        },
        "id": "EusZCqdPhJq0",
        "outputId": "0076aac5-5a3b-4d6c-b5bf-492480cb67ba"
      },
      "id": "EusZCqdPhJq0",
      "execution_count": 10,
      "outputs": [
        {
          "output_type": "execute_result",
          "data": {
            "text/plain": [
              "10:00 AM     99\n",
              "11:00 AM     56\n",
              "12:00 PM    120\n",
              "1:00 PM      40\n",
              "2:00 PM      65\n",
              "3:00 PM      73\n",
              "4:00 PM      53\n",
              "5:00 PM      43\n",
              "9:00 AM      10\n",
              "Name: Time Block, dtype: int64"
            ]
          },
          "metadata": {},
          "execution_count": 10
        }
      ]
    },
    {
      "cell_type": "markdown",
      "id": "40b1fd3f",
      "metadata": {
        "id": "40b1fd3f"
      },
      "source": [
        "##### Record your answers for the EDA section by double clicking here:\n",
        "- 1a) Reps in the North Branch = 9\n",
        "- 1b) Reps in the South Branch = 11\n",
        "\n",
        "\n",
        "- 2a) North Branch, (round to the nearest hundredth):\n",
        "> - Busy Minutes = 9.99\n",
        "> - Not Ready Minutes = 1.91\n",
        "> - Incoming Wait Time = 3.04\n",
        "> - During Call Wait Time = 2.97\n",
        "- 2b) South Branch, (round to the nearest hundredth):\n",
        "> - Busy Minutes = 10.05\n",
        "> - Not Ready Minutes = 1.91\n",
        "> - Incoming Wait Time = 3.00\n",
        "> - During Call Wait Time = 3.07\n",
        "- 3) Total Calls taken for all branches per time block:\n",
        "> - 9:00AM   = 10\n",
        "> - 10:00AM  = 99\n",
        "> - 11:00AM  = 56\n",
        "> - 12:00PM  = 120\n",
        "> - 1:00PM   = 40\n",
        "> - 2:00PM   = 65\n",
        "> - 3:00PM   = 73\n",
        "> - 4:00PM   = 53\n",
        "> - 5:00PM   = 43\n",
        "\n",
        "\n"
      ]
    },
    {
      "cell_type": "markdown",
      "id": "446048d3",
      "metadata": {
        "id": "446048d3"
      },
      "source": [
        "<span style=\"background-color:orangered; color:orangered;\">- - - - - - - - - - - - - - - - - - - - - - - - - - - - - - - - - - - - - - - - - - - - - - - - - - - - - - - - - - - - - - - - - - - - - - - - - - - - - - - - - - - - - - - - -</span>"
      ]
    },
    {
      "cell_type": "markdown",
      "id": "366bfb19",
      "metadata": {
        "id": "366bfb19"
      },
      "source": [
        "## Cleaning Your Data\n",
        "Now you need to clean up the datasets. When cleaning the datasets, you may find that there isn't dirty data to clean. That is okay! Some questions you need to answer about the data sets.\n",
        "* Add additional code blocks as needed to show how you came to your conclusions. Add comments in your code blocks to help others understand your thinking."
      ]
    },
    {
      "cell_type": "markdown",
      "id": "c3564d69",
      "metadata": {
        "id": "c3564d69"
      },
      "source": [
        "#### Cleaning Question 1:  Is there any missing data and if yes explain what you would do with the missing data and why?\n",
        "##### Record your answer by double clicking here:\n",
        "> Your Answer: I used isna sums to look for missing data. There is missing cells in the Incoming Wait Time column for both the North and the South Center. I suspect a blank means there was no time waited."
      ]
    },
    {
      "cell_type": "code",
      "execution_count": 11,
      "id": "b77fb574",
      "metadata": {
        "colab": {
          "base_uri": "https://localhost:8080/"
        },
        "id": "b77fb574",
        "outputId": "aa9019e1-d669-418d-c469-e790290e5e6d"
      },
      "outputs": [
        {
          "output_type": "execute_result",
          "data": {
            "text/plain": [
              "Unnamed: 0                 0\n",
              "Branch                     0\n",
              "Call Purpose               0\n",
              "Time Block                 0\n",
              "Incoming or Outgoing       0\n",
              "Queue                      0\n",
              "Rep ID                     0\n",
              "Sale                       0\n",
              "Lost Call                  0\n",
              "Abandoned                  0\n",
              "Busy Minutes               0\n",
              "Not Ready Minutes          0\n",
              "Incoming Wait Time       163\n",
              "During Call Wait Time      0\n",
              "Calls                      0\n",
              "dtype: int64"
            ]
          },
          "metadata": {},
          "execution_count": 11
        }
      ],
      "source": [
        "# Code Used\n",
        "# Add Additional Cells as needed.\n",
        "north_df.isna().sum()\n",
        "#I'm using isna sums to look for missing data - there is missing values in the Incoming Wait Time column for the north center -the blank probably means no time was waited"
      ]
    },
    {
      "cell_type": "code",
      "source": [
        "south_df.isna().sum()\n",
        "#I'm using isna sums to look for missing data - there is missing values in the Incoming Wait Time column for the south center -the blank probably means no time was waited"
      ],
      "metadata": {
        "id": "dlzZZXb8ipel",
        "outputId": "8b9c62e7-0ea4-4dec-f414-4c704a609d7a",
        "colab": {
          "base_uri": "https://localhost:8080/"
        }
      },
      "id": "dlzZZXb8ipel",
      "execution_count": 12,
      "outputs": [
        {
          "output_type": "execute_result",
          "data": {
            "text/plain": [
              "Unnamed: 0                 0\n",
              "Branch                     0\n",
              "Call Purpose               0\n",
              "Time Block                 0\n",
              "Incoming or Outgoing       0\n",
              "Queue                      0\n",
              "Rep ID                     0\n",
              "Sale                       0\n",
              "Lost Call                  0\n",
              "Abandoned                  0\n",
              "Busy Minutes               0\n",
              "Not Ready Minutes          0\n",
              "Incoming Wait Time       188\n",
              "During Call Wait Time      0\n",
              "Calls                      0\n",
              "dtype: int64"
            ]
          },
          "metadata": {},
          "execution_count": 12
        }
      ]
    },
    {
      "cell_type": "markdown",
      "id": "dc47f020",
      "metadata": {
        "id": "dc47f020"
      },
      "source": [
        "#### Cleaning Question 2:  In the North data set, there are two separate \"YES\" values for a sale. Why and how did you rectify the issue?\n",
        "##### Record your answer by double clicking here:\n",
        "> Your Answer: I replaced the 'YES' and 'YES ' with 'yes'"
      ]
    },
    {
      "cell_type": "code",
      "execution_count": 13,
      "id": "4e0fbad6",
      "metadata": {
        "colab": {
          "base_uri": "https://localhost:8080/",
          "height": 701
        },
        "id": "4e0fbad6",
        "outputId": "c2b68777-61ec-44da-cb43-d590b6b3885a"
      },
      "outputs": [
        {
          "output_type": "execute_result",
          "data": {
            "text/plain": [
              "     Unnamed: 0 Branch     Call Purpose Time Block Incoming or Outgoing Queue  \\\n",
              "19           19  North    Sales Support   10:00 AM             Incoming     B   \n",
              "40           40  North    Sales Support   12:00 PM             Incoming     B   \n",
              "47           47  North    Sales Support   10:00 AM             Incoming     A   \n",
              "67           67  North    Sales Support   12:00 PM             Incoming     B   \n",
              "69           69  North    Sales Support   12:00 PM             Incoming     A   \n",
              "86           86  North    Sales Support   10:00 AM             Outgoing     B   \n",
              "87           87  North    Sales Support   10:00 AM             Outgoing     B   \n",
              "99           99  North    Sales Support   10:00 AM             Outgoing     A   \n",
              "108         108  North    Sales Support   11:00 AM             Outgoing     B   \n",
              "220         220  North  Product Support    4:00 PM             Outgoing     A   \n",
              "227         227  North  Product Support    4:00 PM             Outgoing     B   \n",
              "\n",
              "     Rep ID  Sale  Lost Call  Abandoned  Busy Minutes  Not Ready Minutes  \\\n",
              "19    Lilly  YES           0          0            11                  2   \n",
              "40    Lilly   YES          0          0            10                  1   \n",
              "47   Amanda   YES          0          0            10                  3   \n",
              "67     Todd   YES          0          0             9                  3   \n",
              "69     Andy   YES          0          0            10                  1   \n",
              "86    Lilly   YES          0          1             9                  3   \n",
              "87    Lilly   YES          0          1            12                  1   \n",
              "99     Andy   YES          0          0            12                  2   \n",
              "108   Lilly   YES          0          0             8                  3   \n",
              "220     Cam   YES          0          0             8                  1   \n",
              "227   Brent   YES          0          0            10                  2   \n",
              "\n",
              "     Incoming Wait Time  During Call Wait Time  Calls  \n",
              "19                  2.0                      4      1  \n",
              "40                  3.0                      2      1  \n",
              "47                  4.0                      3      1  \n",
              "67                  5.0                      4      1  \n",
              "69                  5.0                      2      1  \n",
              "86                  NaN                      4      1  \n",
              "87                  NaN                      4      1  \n",
              "99                  NaN                      2      1  \n",
              "108                 NaN                      2      1  \n",
              "220                 NaN                      3      1  \n",
              "227                 NaN                      4      1  "
            ],
            "text/html": [
              "\n",
              "\n",
              "  <div id=\"df-ca90f711-aff8-4f96-90e9-b09b18521fc5\">\n",
              "    <div class=\"colab-df-container\">\n",
              "      <div>\n",
              "<style scoped>\n",
              "    .dataframe tbody tr th:only-of-type {\n",
              "        vertical-align: middle;\n",
              "    }\n",
              "\n",
              "    .dataframe tbody tr th {\n",
              "        vertical-align: top;\n",
              "    }\n",
              "\n",
              "    .dataframe thead th {\n",
              "        text-align: right;\n",
              "    }\n",
              "</style>\n",
              "<table border=\"1\" class=\"dataframe\">\n",
              "  <thead>\n",
              "    <tr style=\"text-align: right;\">\n",
              "      <th></th>\n",
              "      <th>Unnamed: 0</th>\n",
              "      <th>Branch</th>\n",
              "      <th>Call Purpose</th>\n",
              "      <th>Time Block</th>\n",
              "      <th>Incoming or Outgoing</th>\n",
              "      <th>Queue</th>\n",
              "      <th>Rep ID</th>\n",
              "      <th>Sale</th>\n",
              "      <th>Lost Call</th>\n",
              "      <th>Abandoned</th>\n",
              "      <th>Busy Minutes</th>\n",
              "      <th>Not Ready Minutes</th>\n",
              "      <th>Incoming Wait Time</th>\n",
              "      <th>During Call Wait Time</th>\n",
              "      <th>Calls</th>\n",
              "    </tr>\n",
              "  </thead>\n",
              "  <tbody>\n",
              "    <tr>\n",
              "      <th>19</th>\n",
              "      <td>19</td>\n",
              "      <td>North</td>\n",
              "      <td>Sales Support</td>\n",
              "      <td>10:00 AM</td>\n",
              "      <td>Incoming</td>\n",
              "      <td>B</td>\n",
              "      <td>Lilly</td>\n",
              "      <td>YES</td>\n",
              "      <td>0</td>\n",
              "      <td>0</td>\n",
              "      <td>11</td>\n",
              "      <td>2</td>\n",
              "      <td>2.0</td>\n",
              "      <td>4</td>\n",
              "      <td>1</td>\n",
              "    </tr>\n",
              "    <tr>\n",
              "      <th>40</th>\n",
              "      <td>40</td>\n",
              "      <td>North</td>\n",
              "      <td>Sales Support</td>\n",
              "      <td>12:00 PM</td>\n",
              "      <td>Incoming</td>\n",
              "      <td>B</td>\n",
              "      <td>Lilly</td>\n",
              "      <td>YES</td>\n",
              "      <td>0</td>\n",
              "      <td>0</td>\n",
              "      <td>10</td>\n",
              "      <td>1</td>\n",
              "      <td>3.0</td>\n",
              "      <td>2</td>\n",
              "      <td>1</td>\n",
              "    </tr>\n",
              "    <tr>\n",
              "      <th>47</th>\n",
              "      <td>47</td>\n",
              "      <td>North</td>\n",
              "      <td>Sales Support</td>\n",
              "      <td>10:00 AM</td>\n",
              "      <td>Incoming</td>\n",
              "      <td>A</td>\n",
              "      <td>Amanda</td>\n",
              "      <td>YES</td>\n",
              "      <td>0</td>\n",
              "      <td>0</td>\n",
              "      <td>10</td>\n",
              "      <td>3</td>\n",
              "      <td>4.0</td>\n",
              "      <td>3</td>\n",
              "      <td>1</td>\n",
              "    </tr>\n",
              "    <tr>\n",
              "      <th>67</th>\n",
              "      <td>67</td>\n",
              "      <td>North</td>\n",
              "      <td>Sales Support</td>\n",
              "      <td>12:00 PM</td>\n",
              "      <td>Incoming</td>\n",
              "      <td>B</td>\n",
              "      <td>Todd</td>\n",
              "      <td>YES</td>\n",
              "      <td>0</td>\n",
              "      <td>0</td>\n",
              "      <td>9</td>\n",
              "      <td>3</td>\n",
              "      <td>5.0</td>\n",
              "      <td>4</td>\n",
              "      <td>1</td>\n",
              "    </tr>\n",
              "    <tr>\n",
              "      <th>69</th>\n",
              "      <td>69</td>\n",
              "      <td>North</td>\n",
              "      <td>Sales Support</td>\n",
              "      <td>12:00 PM</td>\n",
              "      <td>Incoming</td>\n",
              "      <td>A</td>\n",
              "      <td>Andy</td>\n",
              "      <td>YES</td>\n",
              "      <td>0</td>\n",
              "      <td>0</td>\n",
              "      <td>10</td>\n",
              "      <td>1</td>\n",
              "      <td>5.0</td>\n",
              "      <td>2</td>\n",
              "      <td>1</td>\n",
              "    </tr>\n",
              "    <tr>\n",
              "      <th>86</th>\n",
              "      <td>86</td>\n",
              "      <td>North</td>\n",
              "      <td>Sales Support</td>\n",
              "      <td>10:00 AM</td>\n",
              "      <td>Outgoing</td>\n",
              "      <td>B</td>\n",
              "      <td>Lilly</td>\n",
              "      <td>YES</td>\n",
              "      <td>0</td>\n",
              "      <td>1</td>\n",
              "      <td>9</td>\n",
              "      <td>3</td>\n",
              "      <td>NaN</td>\n",
              "      <td>4</td>\n",
              "      <td>1</td>\n",
              "    </tr>\n",
              "    <tr>\n",
              "      <th>87</th>\n",
              "      <td>87</td>\n",
              "      <td>North</td>\n",
              "      <td>Sales Support</td>\n",
              "      <td>10:00 AM</td>\n",
              "      <td>Outgoing</td>\n",
              "      <td>B</td>\n",
              "      <td>Lilly</td>\n",
              "      <td>YES</td>\n",
              "      <td>0</td>\n",
              "      <td>1</td>\n",
              "      <td>12</td>\n",
              "      <td>1</td>\n",
              "      <td>NaN</td>\n",
              "      <td>4</td>\n",
              "      <td>1</td>\n",
              "    </tr>\n",
              "    <tr>\n",
              "      <th>99</th>\n",
              "      <td>99</td>\n",
              "      <td>North</td>\n",
              "      <td>Sales Support</td>\n",
              "      <td>10:00 AM</td>\n",
              "      <td>Outgoing</td>\n",
              "      <td>A</td>\n",
              "      <td>Andy</td>\n",
              "      <td>YES</td>\n",
              "      <td>0</td>\n",
              "      <td>0</td>\n",
              "      <td>12</td>\n",
              "      <td>2</td>\n",
              "      <td>NaN</td>\n",
              "      <td>2</td>\n",
              "      <td>1</td>\n",
              "    </tr>\n",
              "    <tr>\n",
              "      <th>108</th>\n",
              "      <td>108</td>\n",
              "      <td>North</td>\n",
              "      <td>Sales Support</td>\n",
              "      <td>11:00 AM</td>\n",
              "      <td>Outgoing</td>\n",
              "      <td>B</td>\n",
              "      <td>Lilly</td>\n",
              "      <td>YES</td>\n",
              "      <td>0</td>\n",
              "      <td>0</td>\n",
              "      <td>8</td>\n",
              "      <td>3</td>\n",
              "      <td>NaN</td>\n",
              "      <td>2</td>\n",
              "      <td>1</td>\n",
              "    </tr>\n",
              "    <tr>\n",
              "      <th>220</th>\n",
              "      <td>220</td>\n",
              "      <td>North</td>\n",
              "      <td>Product Support</td>\n",
              "      <td>4:00 PM</td>\n",
              "      <td>Outgoing</td>\n",
              "      <td>A</td>\n",
              "      <td>Cam</td>\n",
              "      <td>YES</td>\n",
              "      <td>0</td>\n",
              "      <td>0</td>\n",
              "      <td>8</td>\n",
              "      <td>1</td>\n",
              "      <td>NaN</td>\n",
              "      <td>3</td>\n",
              "      <td>1</td>\n",
              "    </tr>\n",
              "    <tr>\n",
              "      <th>227</th>\n",
              "      <td>227</td>\n",
              "      <td>North</td>\n",
              "      <td>Product Support</td>\n",
              "      <td>4:00 PM</td>\n",
              "      <td>Outgoing</td>\n",
              "      <td>B</td>\n",
              "      <td>Brent</td>\n",
              "      <td>YES</td>\n",
              "      <td>0</td>\n",
              "      <td>0</td>\n",
              "      <td>10</td>\n",
              "      <td>2</td>\n",
              "      <td>NaN</td>\n",
              "      <td>4</td>\n",
              "      <td>1</td>\n",
              "    </tr>\n",
              "  </tbody>\n",
              "</table>\n",
              "</div>\n",
              "      <button class=\"colab-df-convert\" onclick=\"convertToInteractive('df-ca90f711-aff8-4f96-90e9-b09b18521fc5')\"\n",
              "              title=\"Convert this dataframe to an interactive table.\"\n",
              "              style=\"display:none;\">\n",
              "\n",
              "  <svg xmlns=\"http://www.w3.org/2000/svg\" height=\"24px\"viewBox=\"0 0 24 24\"\n",
              "       width=\"24px\">\n",
              "    <path d=\"M0 0h24v24H0V0z\" fill=\"none\"/>\n",
              "    <path d=\"M18.56 5.44l.94 2.06.94-2.06 2.06-.94-2.06-.94-.94-2.06-.94 2.06-2.06.94zm-11 1L8.5 8.5l.94-2.06 2.06-.94-2.06-.94L8.5 2.5l-.94 2.06-2.06.94zm10 10l.94 2.06.94-2.06 2.06-.94-2.06-.94-.94-2.06-.94 2.06-2.06.94z\"/><path d=\"M17.41 7.96l-1.37-1.37c-.4-.4-.92-.59-1.43-.59-.52 0-1.04.2-1.43.59L10.3 9.45l-7.72 7.72c-.78.78-.78 2.05 0 2.83L4 21.41c.39.39.9.59 1.41.59.51 0 1.02-.2 1.41-.59l7.78-7.78 2.81-2.81c.8-.78.8-2.07 0-2.86zM5.41 20L4 18.59l7.72-7.72 1.47 1.35L5.41 20z\"/>\n",
              "  </svg>\n",
              "      </button>\n",
              "\n",
              "\n",
              "\n",
              "    <div id=\"df-1650bf17-dd3b-4087-b17d-c2c4aeabd4b4\">\n",
              "      <button class=\"colab-df-quickchart\" onclick=\"quickchart('df-1650bf17-dd3b-4087-b17d-c2c4aeabd4b4')\"\n",
              "              title=\"Suggest charts.\"\n",
              "              style=\"display:none;\">\n",
              "\n",
              "<svg xmlns=\"http://www.w3.org/2000/svg\" height=\"24px\"viewBox=\"0 0 24 24\"\n",
              "     width=\"24px\">\n",
              "    <g>\n",
              "        <path d=\"M19 3H5c-1.1 0-2 .9-2 2v14c0 1.1.9 2 2 2h14c1.1 0 2-.9 2-2V5c0-1.1-.9-2-2-2zM9 17H7v-7h2v7zm4 0h-2V7h2v10zm4 0h-2v-4h2v4z\"/>\n",
              "    </g>\n",
              "</svg>\n",
              "      </button>\n",
              "    </div>\n",
              "\n",
              "<style>\n",
              "  .colab-df-quickchart {\n",
              "    background-color: #E8F0FE;\n",
              "    border: none;\n",
              "    border-radius: 50%;\n",
              "    cursor: pointer;\n",
              "    display: none;\n",
              "    fill: #1967D2;\n",
              "    height: 32px;\n",
              "    padding: 0 0 0 0;\n",
              "    width: 32px;\n",
              "  }\n",
              "\n",
              "  .colab-df-quickchart:hover {\n",
              "    background-color: #E2EBFA;\n",
              "    box-shadow: 0px 1px 2px rgba(60, 64, 67, 0.3), 0px 1px 3px 1px rgba(60, 64, 67, 0.15);\n",
              "    fill: #174EA6;\n",
              "  }\n",
              "\n",
              "  [theme=dark] .colab-df-quickchart {\n",
              "    background-color: #3B4455;\n",
              "    fill: #D2E3FC;\n",
              "  }\n",
              "\n",
              "  [theme=dark] .colab-df-quickchart:hover {\n",
              "    background-color: #434B5C;\n",
              "    box-shadow: 0px 1px 3px 1px rgba(0, 0, 0, 0.15);\n",
              "    filter: drop-shadow(0px 1px 2px rgba(0, 0, 0, 0.3));\n",
              "    fill: #FFFFFF;\n",
              "  }\n",
              "</style>\n",
              "\n",
              "    <script>\n",
              "      async function quickchart(key) {\n",
              "        const containerElement = document.querySelector('#' + key);\n",
              "        const charts = await google.colab.kernel.invokeFunction(\n",
              "            'suggestCharts', [key], {});\n",
              "      }\n",
              "    </script>\n",
              "\n",
              "      <script>\n",
              "\n",
              "function displayQuickchartButton(domScope) {\n",
              "  let quickchartButtonEl =\n",
              "    domScope.querySelector('#df-1650bf17-dd3b-4087-b17d-c2c4aeabd4b4 button.colab-df-quickchart');\n",
              "  quickchartButtonEl.style.display =\n",
              "    google.colab.kernel.accessAllowed ? 'block' : 'none';\n",
              "}\n",
              "\n",
              "        displayQuickchartButton(document);\n",
              "      </script>\n",
              "      <style>\n",
              "    .colab-df-container {\n",
              "      display:flex;\n",
              "      flex-wrap:wrap;\n",
              "      gap: 12px;\n",
              "    }\n",
              "\n",
              "    .colab-df-convert {\n",
              "      background-color: #E8F0FE;\n",
              "      border: none;\n",
              "      border-radius: 50%;\n",
              "      cursor: pointer;\n",
              "      display: none;\n",
              "      fill: #1967D2;\n",
              "      height: 32px;\n",
              "      padding: 0 0 0 0;\n",
              "      width: 32px;\n",
              "    }\n",
              "\n",
              "    .colab-df-convert:hover {\n",
              "      background-color: #E2EBFA;\n",
              "      box-shadow: 0px 1px 2px rgba(60, 64, 67, 0.3), 0px 1px 3px 1px rgba(60, 64, 67, 0.15);\n",
              "      fill: #174EA6;\n",
              "    }\n",
              "\n",
              "    [theme=dark] .colab-df-convert {\n",
              "      background-color: #3B4455;\n",
              "      fill: #D2E3FC;\n",
              "    }\n",
              "\n",
              "    [theme=dark] .colab-df-convert:hover {\n",
              "      background-color: #434B5C;\n",
              "      box-shadow: 0px 1px 3px 1px rgba(0, 0, 0, 0.15);\n",
              "      filter: drop-shadow(0px 1px 2px rgba(0, 0, 0, 0.3));\n",
              "      fill: #FFFFFF;\n",
              "    }\n",
              "  </style>\n",
              "\n",
              "      <script>\n",
              "        const buttonEl =\n",
              "          document.querySelector('#df-ca90f711-aff8-4f96-90e9-b09b18521fc5 button.colab-df-convert');\n",
              "        buttonEl.style.display =\n",
              "          google.colab.kernel.accessAllowed ? 'block' : 'none';\n",
              "\n",
              "        async function convertToInteractive(key) {\n",
              "          const element = document.querySelector('#df-ca90f711-aff8-4f96-90e9-b09b18521fc5');\n",
              "          const dataTable =\n",
              "            await google.colab.kernel.invokeFunction('convertToInteractive',\n",
              "                                                     [key], {});\n",
              "          if (!dataTable) return;\n",
              "\n",
              "          const docLinkHtml = 'Like what you see? Visit the ' +\n",
              "            '<a target=\"_blank\" href=https://colab.research.google.com/notebooks/data_table.ipynb>data table notebook</a>'\n",
              "            + ' to learn more about interactive tables.';\n",
              "          element.innerHTML = '';\n",
              "          dataTable['output_type'] = 'display_data';\n",
              "          await google.colab.output.renderOutput(dataTable, element);\n",
              "          const docLink = document.createElement('div');\n",
              "          docLink.innerHTML = docLinkHtml;\n",
              "          element.appendChild(docLink);\n",
              "        }\n",
              "      </script>\n",
              "    </div>\n",
              "  </div>\n"
            ]
          },
          "metadata": {},
          "execution_count": 13
        }
      ],
      "source": [
        "#Code Used\n",
        "# Add Additional Cells as needed.\n",
        "\n",
        "north_df['Sale'].value_counts()\n",
        "# counts each unique value in the 'Sale' column of the north_df\n",
        "filtered_north_not_no_sale = north_df[north_df['Sale'] != 'NO']\n",
        "#creating a new df, which is a subset from the north datafram where the sale doesn't equal no\n",
        "#filtered_north_not_no_sale\n",
        "#that line was see what it looked like before I did the next replace\n",
        "north_df['Sale'] = north_df['Sale'].replace(['YES ','YES'], 'yes')\n",
        "#this replace makes both YES with a space after it, and YES with no space become yes in lower case\n",
        "filtered_north_not_no_sale\n",
        "#this just makes the table appear so I can see if it looks right"
      ]
    },
    {
      "cell_type": "markdown",
      "id": "715f375a",
      "metadata": {
        "id": "715f375a"
      },
      "source": [
        "#### Cleaning Question 3:  Are there duplicates in the two data sets? If there are, how did you handle them?\n",
        "##### Record your answer by double clicking here:\n",
        "> Your Answer: There are no dupliactes - atleast according to the sum of .duplicated()"
      ]
    },
    {
      "cell_type": "code",
      "execution_count": 14,
      "id": "2323673a",
      "metadata": {
        "colab": {
          "base_uri": "https://localhost:8080/"
        },
        "id": "2323673a",
        "outputId": "4e3c4367-2313-468d-94f9-3da7a8e6fb4f"
      },
      "outputs": [
        {
          "output_type": "execute_result",
          "data": {
            "text/plain": [
              "0"
            ]
          },
          "metadata": {},
          "execution_count": 14
        }
      ],
      "source": [
        "#Code Used\n",
        "# Add Additional Cells as needed.\n",
        "\n",
        "north_df.duplicated().sum()\n",
        "#this is to check if there are duplicates in the north dataframe\n",
        "#at first I thought I should do a count, but a count is all wrong because it counts all rows, sum is of the True values (equals 1)"
      ]
    },
    {
      "cell_type": "code",
      "source": [
        "south_df.duplicated().sum()\n",
        "#this is to check if there are duplicates in the south dataframe\n",
        "#at first I thought I should do a count, but a count is all wrong because it counts all rows, sum is of the True values (equals 1)"
      ],
      "metadata": {
        "id": "xy9yGoqsuUrd",
        "outputId": "c4849e51-2af1-422f-9d70-9a4274d42217",
        "colab": {
          "base_uri": "https://localhost:8080/"
        }
      },
      "id": "xy9yGoqsuUrd",
      "execution_count": 15,
      "outputs": [
        {
          "output_type": "execute_result",
          "data": {
            "text/plain": [
              "0"
            ]
          },
          "metadata": {},
          "execution_count": 15
        }
      ]
    },
    {
      "cell_type": "markdown",
      "id": "8ffaa865",
      "metadata": {
        "id": "8ffaa865"
      },
      "source": [
        "#### Cleaning Question 4:  Is any of the data in the two data sets unnecessary? If yes, how did you handle it?\n",
        "##### Record your answer by double clicking here:\n",
        "> Your Answer:  The Calls column is always one, I ignored it but it is unnecessary, unless there is some future instances when there is a second call somehow. I would guess the column exists for a future potential input that hasn't come up."
      ]
    },
    {
      "cell_type": "code",
      "execution_count": 16,
      "id": "78b45e70",
      "metadata": {
        "colab": {
          "base_uri": "https://localhost:8080/"
        },
        "id": "78b45e70",
        "outputId": "3f64d256-974b-4428-d2c0-bdf1cf677ac1"
      },
      "outputs": [
        {
          "output_type": "execute_result",
          "data": {
            "text/plain": [
              "1    314\n",
              "Name: Calls, dtype: int64"
            ]
          },
          "metadata": {},
          "execution_count": 16
        }
      ],
      "source": [
        "#Code Used\n",
        "# Add Additional Cells as needed.\n",
        "\n",
        "south_df['Calls'].value_counts()\n",
        "#.value_counts() is a method that counts the occurrences of unique values in the ['Calls'] column in the south dataframe"
      ]
    },
    {
      "cell_type": "code",
      "source": [
        "north_df.describe()\n",
        "north_df['Calls'].value_counts()\n",
        "\n",
        "#.value_counts() is a method that counts the occurrences of unique values in the ['Calls'] column in the north dataframe"
      ],
      "metadata": {
        "id": "2C9_lmgKvEuu",
        "outputId": "a5dca7e3-0a2c-43c1-9f04-d7653cf0e97f",
        "colab": {
          "base_uri": "https://localhost:8080/"
        }
      },
      "id": "2C9_lmgKvEuu",
      "execution_count": 17,
      "outputs": [
        {
          "output_type": "execute_result",
          "data": {
            "text/plain": [
              "1    245\n",
              "Name: Calls, dtype: int64"
            ]
          },
          "metadata": {},
          "execution_count": 17
        }
      ]
    },
    {
      "cell_type": "markdown",
      "id": "f67d89ab",
      "metadata": {
        "id": "f67d89ab"
      },
      "source": [
        "<span style=\"background-color:orangered; color:orangered;\">- - - - - - - - - - - - - - - - - - - - - - - - - - - - - - - - - - - - - - - - - - - - - - - - - - - - - - - - - - - - - - - - - - - - - - - - - - - - - - - - - - - - - - - - -</span>"
      ]
    },
    {
      "cell_type": "markdown",
      "id": "73342a9a",
      "metadata": {
        "id": "73342a9a"
      },
      "source": [
        "## Data Manipulation\n",
        "Before you begin answering any questions, combine the two datasets together to create a third dataframe called df. You can use this third dataframe to compare the two call centers to company-wide trends.\n",
        "* Add additional code blocks as needed to show how you came to your conclusions. Add comments in your code blocks to help others understand your thinking. Record your answer by double clicking the below cell."
      ]
    },
    {
      "cell_type": "code",
      "execution_count": 18,
      "id": "e9705c34",
      "metadata": {
        "id": "e9705c34",
        "outputId": "031938ce-4f72-492c-83f8-32666ca89623",
        "colab": {
          "base_uri": "https://localhost:8080/"
        }
      },
      "outputs": [
        {
          "output_type": "execute_result",
          "data": {
            "text/plain": [
              "Index(['Unnamed: 0', 'Branch', 'Call Purpose', 'Time Block',\n",
              "       'Incoming or Outgoing', 'Queue', 'Rep ID', 'Sale', 'Lost Call',\n",
              "       'Abandoned', 'Busy Minutes', 'Not Ready Minutes', 'Incoming Wait Time',\n",
              "       'During Call Wait Time', 'Calls'],\n",
              "      dtype='object')"
            ]
          },
          "metadata": {},
          "execution_count": 18
        }
      ],
      "source": [
        "# Create dataframe for the entire company named df\n",
        "\n",
        "df = pd.concat([south_df, north_df], axis=0)\n",
        "#this is concating the two dataframe into a new one, I named it df because that's the kind of default name for your big dataframe in all the examples\n",
        "df.columns\n",
        "#I requested the columns information to see how the dataframe looks"
      ]
    },
    {
      "cell_type": "markdown",
      "id": "7e87dfd1",
      "metadata": {
        "id": "7e87dfd1"
      },
      "source": [
        "#### Manipulation Question 1:  Group by Rep ID and sum the resulting structure. Sort by calls to determine which rep in each branch has the highest number of calls.\n",
        "\n",
        "##### Record your answer by double clicking here:\n",
        "Rep with the hightest number of calls and their total calls:\n",
        "- North Branch = Brent, 37\n",
        "- South Branch = Eric, 35\n"
      ]
    },
    {
      "cell_type": "code",
      "execution_count": 19,
      "id": "3953f09a",
      "metadata": {
        "id": "3953f09a"
      },
      "outputs": [],
      "source": [
        "# Code Used\n",
        "# Add Additional Cells as needed."
      ]
    },
    {
      "cell_type": "code",
      "execution_count": 20,
      "id": "48898029",
      "metadata": {
        "id": "48898029",
        "outputId": "a5613522-04b7-4408-8bf1-1e8287ca7966",
        "colab": {
          "base_uri": "https://localhost:8080/"
        }
      },
      "outputs": [
        {
          "output_type": "execute_result",
          "data": {
            "text/plain": [
              "Branch  Rep ID\n",
              "North   Brent     37\n",
              "South   Eric      35\n",
              "        Randy     33\n",
              "        Sandy     32\n",
              "        Helga     31\n",
              "North   Lilly     30\n",
              "        Duke      29\n",
              "        Todd      29\n",
              "South   Kate      29\n",
              "        George    29\n",
              "        Karl      28\n",
              "        Josh      26\n",
              "        Susan     26\n",
              "North   Joe       26\n",
              "South   Sharon    25\n",
              "North   Xander    24\n",
              "        Cam       24\n",
              "        Andy      23\n",
              "        Amanda    23\n",
              "South   Alice     20\n",
              "Name: Branch, dtype: int64"
            ]
          },
          "metadata": {},
          "execution_count": 20
        }
      ],
      "source": [
        "df.groupby([\"Branch\",\"Rep ID\"])[\"Branch\"].count().sort_values(ascending=False)\n",
        "#I use the big dataframe and group first by branch (be it north or south) and by Rep ID, the value I'm looking at is the count, who has the highest call is found with this count(), I sorted teh whole thing descending by setting the ascending to false\n",
        "#this is what gave me the answer of Brenct & Eric"
      ]
    },
    {
      "cell_type": "markdown",
      "id": "809293b9",
      "metadata": {
        "id": "809293b9"
      },
      "source": [
        "#### Manipulation Question 2:  The average call abandonment rate is a KPI when it comes to determining call center efficiency. As you may recall, abandoned calls are calls where the customer hangs up due to long call times. What is the average call abandonment rate for each branch and the whole company? Do any of these fall out of the optimal range of 2-5%?\n",
        "##### Record your answer by double clicking here:\n",
        "Average Call Abandonment Rates (round to the nearest hundredth):\n",
        "- North Branch = 2.86%\n",
        "- South Branch = 1.27%\n",
        "- Company Wide = 1.97%\n",
        "- Do any of these fall out of the optimal range of 2-5%? <br>\n",
        "Yes, the south branch is less than 1.3% which is below the optimal range and causes the company wide range to dip below 2%."
      ]
    },
    {
      "cell_type": "code",
      "execution_count": 21,
      "id": "3dff7534",
      "metadata": {
        "id": "3dff7534",
        "outputId": "71a8014e-97dd-46f5-a899-c8221f65d23c",
        "colab": {
          "base_uri": "https://localhost:8080/"
        }
      },
      "outputs": [
        {
          "output_type": "execute_result",
          "data": {
            "text/plain": [
              "0.01967799642218247"
            ]
          },
          "metadata": {},
          "execution_count": 21
        }
      ],
      "source": [
        "# Code Used\n",
        "# Add Additional Cells as needed.\n",
        "\n",
        "df[\"Abandoned\"].mean()\n",
        "#to find the abandoned average time, I used .mean() on the combo dataframe simply named df on the \"Abandoned\" column"
      ]
    },
    {
      "cell_type": "code",
      "source": [
        "south_df[\"Abandoned\"].mean()\n",
        "#to find the abandoned average time, I used .mean() on the just south dataframe simply named df on the \"Abandoned\" column"
      ],
      "metadata": {
        "id": "s_O9O3lHIy_9",
        "outputId": "a19b27ef-b803-4439-e09b-19f814910cf9",
        "colab": {
          "base_uri": "https://localhost:8080/"
        }
      },
      "id": "s_O9O3lHIy_9",
      "execution_count": 22,
      "outputs": [
        {
          "output_type": "execute_result",
          "data": {
            "text/plain": [
              "0.012738853503184714"
            ]
          },
          "metadata": {},
          "execution_count": 22
        }
      ]
    },
    {
      "cell_type": "code",
      "source": [
        "north_df[\"Abandoned\"].mean()\n",
        "#to find the abandoned average time, I used .mean() on the just north dataframe simply named df on the \"Abandoned\" column"
      ],
      "metadata": {
        "id": "Vni28bfMI5n9",
        "outputId": "96c38302-41eb-463e-9b9e-5519da65e2c5",
        "colab": {
          "base_uri": "https://localhost:8080/"
        }
      },
      "id": "Vni28bfMI5n9",
      "execution_count": 23,
      "outputs": [
        {
          "output_type": "execute_result",
          "data": {
            "text/plain": [
              "0.02857142857142857"
            ]
          },
          "metadata": {},
          "execution_count": 23
        }
      ]
    },
    {
      "cell_type": "markdown",
      "id": "598bb1bf",
      "metadata": {
        "id": "598bb1bf"
      },
      "source": [
        "#### Manipulation Question 3:  Service level is another KPI when it comes to measuring call center efficiency. Service level is the percentage of calls answered within a specific number of seconds. In the case of your employer, their ideal time frame is 2 seconds. What is the percentage of calls answered within 2 seconds for each branch and the entire company?\n",
        "##### Record your answer by double clicking here:\n",
        "Percentage of calls answered within 2 seconds, include # of calls:\n",
        "- North Branch = 17 calls, 15.10%\n",
        "- South Branch = 20 calls, 11.78%\n",
        "- Company Wide = 37 calls, 6.62%"
      ]
    },
    {
      "cell_type": "code",
      "execution_count": 25,
      "id": "2fc8f669",
      "metadata": {
        "id": "2fc8f669",
        "outputId": "df1ae443-f65e-40b9-eb06-87ca8488bc60",
        "colab": {
          "base_uri": "https://localhost:8080/"
        }
      },
      "outputs": [
        {
          "output_type": "stream",
          "name": "stdout",
          "text": [
            "37 Company Wide\n",
            "0.06618962432915922 Company Wide\n"
          ]
        }
      ],
      "source": [
        "# Code Used\n",
        "# Add Additional Cells as needed.\n",
        "\n",
        "Within_2sec = (df[\"Incoming Wait Time\"]<2).sum()\n",
        "#make a new variable, the sum of instances of incoming wait time that were less than 2 from the length of incoming wait time (seconds)\n",
        "Within_2sec_percentage = (Within_2sec / len(df[\"Incoming Wait Time\"]))\n",
        "#find the percentage of instances that had less than 2 seconds of wait time by dividing it by the length of the column of incoming wait time from the combo dataset\n",
        "print(Within_2sec,\"Company Wide\")\n",
        "print(Within_2sec_percentage,\"Company Wide\")\n",
        "#print the answers with contextualizing information"
      ]
    },
    {
      "cell_type": "code",
      "source": [
        "Within_2sec_N = (north_df[\"Incoming Wait Time\"]<2).sum()\n",
        "#just from the north dataset make a new variable, the sum of instances of incoming wait time that were less than 2 from the length of incoming wait time (seconds)\n",
        "Within_2sec_percentage_N = (Within_2sec / len(north_df[\"Incoming Wait Time\"]))\n",
        "#just within the north dataset find the percentage of instances that had less than 2 seconds of wait time by dividing it by the length of the column of incoming wait time from the combo dataset\n",
        "print(Within_2sec_N,\"North\")\n",
        "print(Within_2sec_percentage_N,\"North\")\n",
        "#print the answers for the north call center"
      ],
      "metadata": {
        "id": "UalVcw-2K7J1",
        "outputId": "af62ea98-aaa2-4a8a-9bcc-79c8b75f76ad",
        "colab": {
          "base_uri": "https://localhost:8080/"
        }
      },
      "id": "UalVcw-2K7J1",
      "execution_count": 26,
      "outputs": [
        {
          "output_type": "stream",
          "name": "stdout",
          "text": [
            "17 North\n",
            "0.1510204081632653 North\n"
          ]
        }
      ]
    },
    {
      "cell_type": "code",
      "source": [
        "Within_2sec_S = (south_df[\"Incoming Wait Time\"]<2).sum()\n",
        "#just from the south dataset make a new variable, the sum of instances of incoming wait time that were less than 2 from the length of incoming wait time (seconds)\n",
        "Within_2sec_percentage_S = (Within_2sec / len(south_df[\"Incoming Wait Time\"]))\n",
        "#just within the south dataset find the percentage of instances that had less than 2 seconds of wait time by dividing it by the length of the column of incoming wait time from the combo dataset\n",
        "print(Within_2sec_S,\"South\")\n",
        "print(Within_2sec_percentage_S,\"South\")\n",
        "#print the answers for the south call center"
      ],
      "metadata": {
        "id": "dD_BYQAnLHj8",
        "outputId": "26d7eef9-5d7a-40f8-a958-91352134177a",
        "colab": {
          "base_uri": "https://localhost:8080/"
        }
      },
      "id": "dD_BYQAnLHj8",
      "execution_count": 27,
      "outputs": [
        {
          "output_type": "stream",
          "name": "stdout",
          "text": [
            "20 South\n",
            "0.1178343949044586 South\n"
          ]
        }
      ]
    },
    {
      "cell_type": "markdown",
      "id": "7e19e705",
      "metadata": {
        "id": "7e19e705"
      },
      "source": [
        "#### Manipulation Question 4: For each branch and the entire company, what is the average speed of answer?\n",
        "##### Record your answer by double clicking here:\n",
        "Average speed of answer (rounded to nearest hundredth):\n",
        "- North Branch in seconds = 3.05\n",
        "- South Branch in seconds = 3.00\n",
        "- Company Wide in seconds = 3.02\n"
      ]
    },
    {
      "cell_type": "code",
      "execution_count": 28,
      "id": "72a653ed",
      "metadata": {
        "id": "72a653ed",
        "outputId": "ac134bb5-b6d6-4b02-d78f-60922934e65b",
        "colab": {
          "base_uri": "https://localhost:8080/"
        }
      },
      "outputs": [
        {
          "output_type": "stream",
          "name": "stdout",
          "text": [
            "3.019230769230769 Company wide\n",
            "3.048780487804878 at the north branch\n",
            "3.0 at the south branch\n"
          ]
        }
      ],
      "source": [
        "# Code Used\n",
        "\n",
        "speed_of_answer = (df[\"Incoming Wait Time\"]).mean()\n",
        "#create a new variable, the average for the incoming wait time column from the company wide dataset\n",
        "print(speed_of_answer,\"Company wide\")\n",
        "#print the answer for the whole company\n",
        "speed_of_answer_n = (north_df[\"Incoming Wait Time\"]).mean()\n",
        "#create a new variable, the average for the incoming wait time column from the north branch\n",
        "print(speed_of_answer_n,\"at the north branch\")\n",
        "#print the answer for the north branch\n",
        "speed_of_answer_s = (south_df[\"Incoming Wait Time\"]).mean()\n",
        "#create a new variable, the average for the incoming wait time column from the south branch\n",
        "print(speed_of_answer_s,\"at the south branch\")\n",
        "#print the answer for the south branch"
      ]
    },
    {
      "cell_type": "markdown",
      "id": "ba3ca2cd",
      "metadata": {
        "id": "ba3ca2cd"
      },
      "source": [
        "<span style=\"background-color:orangered; color:orangered;\">- - - - - - - - - - - - - - - - - - - - - - - - - - - - - - - - - - - - - - - - - - - - - - - - - - - - - - - - - - - - - - - - - - - - - - - - - - - - - - - - - - - - - - - - -</span>"
      ]
    },
    {
      "cell_type": "markdown",
      "id": "d5f50a40",
      "metadata": {
        "id": "d5f50a40"
      },
      "source": [
        "## Visualization\n",
        "\n",
        "Create a visualization for each of the following questions. Some of the code to handle aggregating and storing data may be written for you. For each visualization, you choose the chart style that you feel suits the situation best. Make note of the chart style you chose and why.\n",
        "\n",
        "*NOTE Some questions you may decide to use more than one chart and or chart style."
      ]
    },
    {
      "cell_type": "markdown",
      "id": "66ccf83c",
      "metadata": {
        "id": "66ccf83c"
      },
      "source": [
        "#### Visualization 1:  What is the average abandonment rate per queue?\n",
        "##### Record your answer by double clicking here:\n",
        "\n",
        "> Chart style you chose and why:\n",
        "I chose a bar chart, which are helpful to compare metric values across different subgroups of data. The bar chart compairs the categorical data of the 4 groups: queues A, B, C, & D for which we want to compare the values."
      ]
    },
    {
      "cell_type": "code",
      "execution_count": 40,
      "id": "c971d779",
      "metadata": {
        "id": "c971d779",
        "outputId": "70c33cfc-9a76-46e4-91a3-745c9c6b15c2",
        "colab": {
          "base_uri": "https://localhost:8080/",
          "height": 521
        }
      },
      "outputs": [
        {
          "output_type": "stream",
          "name": "stderr",
          "text": [
            "<ipython-input-40-13966f284cf1>:10: FutureWarning: The default value of numeric_only in DataFrameGroupBy.sum is deprecated. In a future version, numeric_only will default to False. Either specify numeric_only or select only columns which should be valid for the function.\n",
            "  queue_dict = df.groupby(\"Queue\").agg(\"sum\")\n"
          ]
        },
        {
          "output_type": "execute_result",
          "data": {
            "text/plain": [
              "Text(0, 0.5, 'Abandonment Rate Per Queue')"
            ]
          },
          "metadata": {},
          "execution_count": 40
        },
        {
          "output_type": "display_data",
          "data": {
            "text/plain": [
              "<Figure size 640x480 with 1 Axes>"
            ],
            "image/png": "[encoded data removed]"
          },
          "metadata": {}
        }
      ],
      "source": [
        "# Create visualization 1 here\n",
        "# Import any additional libraries needed with alias\n",
        "\n",
        "import seaborn as sns\n",
        "import matplotlib.pyplot as plt\n",
        "\n",
        "# The dictionary abandonment_rates has the data you need.\n",
        "abandonment_rates = {}\n",
        "queues = [\"A\", \"B\", \"C\", \"D\"]\n",
        "queue_dict = df.groupby(\"Queue\").agg(\"sum\")\n",
        "for i in range(4):\n",
        "    abandonment_rates[queues[i]] = queue_dict[\"Abandoned\"][i] / queue_dict[\"Calls\"][i]\n",
        "\n",
        "#Your Code Here:\n",
        "\n",
        "# Vertical\n",
        "\n",
        "labels = list(abandonment_rates.keys())\n",
        "#make a label list from the abandonment_rates dictionary\n",
        "amounts = list(abandonment_rates.values())\n",
        "#make an amount list from the abandonment_rates dictionary\n",
        "\n",
        "sns.barplot(x=labels, y=amounts)\n",
        "#make a bar plot with labels and amounts\n",
        "plt.xlabel('Groups')\n",
        "#label the x axis groups\n",
        "plt.ylabel('Abandonment Rate Per Queue')\n",
        "#label the y axis\n"
      ]
    },
    {
      "cell_type": "markdown",
      "id": "4a9fc77f",
      "metadata": {
        "id": "4a9fc77f"
      },
      "source": [
        "#### Visualization 2: What is the service level percentage and average speed of answer for each rep in the North Branch?\n",
        "##### Record your answer by double clicking here:\n",
        "\n",
        "> Chart style you chose and why:\n",
        "I think the grouped bar chart tells the story better than the scatter plot, but both were fun to figure out."
      ]
    },
    {
      "cell_type": "code",
      "execution_count": 53,
      "id": "61f65a7f",
      "metadata": {
        "id": "61f65a7f",
        "outputId": "d8668483-953b-4496-bffc-35a7306ee178",
        "colab": {
          "base_uri": "https://localhost:8080/"
        }
      },
      "outputs": [
        {
          "output_type": "stream",
          "name": "stdout",
          "text": [
            "        Calls_x  Calls_y  Service Level Percent\n",
            "Rep ID                                         \n",
            "Amanda        3        5              60.000000\n",
            "Andy          3       10              30.000000\n",
            "Brent         6        8              75.000000\n",
            "Cam           5       11              45.454545\n",
            "Duke          6       14              42.857143\n",
            "Joe           2       10              20.000000\n",
            "Lilly         4       12              33.333333\n",
            "Todd          2        6              33.333333\n",
            "Xander        2        6              33.333333\n"
          ]
        }
      ],
      "source": [
        "# Create visualization 2 here\n",
        "# north_plt contains the data you need for the average speed of answer of each rep\n",
        "\n",
        "north_plt = north_df.groupby(\"Rep ID\")[\"Incoming Wait Time\"].mean().to_frame().reset_index()\n",
        "\n",
        "# Finding each Rep's Personal Service Level Percentage.  Basically, Calls within 2 secs / total calls\n",
        "\n",
        "# Table 1: Total Incoming calls less than 2 seconds grouped by Rep\n",
        "quick_calls = north_df[north_df[\"Incoming Wait Time\"] <= 2.0]\n",
        "quick_reps = quick_calls[[\"Rep ID\", \"Calls\"]]\n",
        "quick_stats = quick_reps.groupby([\"Rep ID\"]).sum()  # Final Table\n",
        "\n",
        "# Table 2: Total Incoming Calls Only grouped by Rep\n",
        "total_calls_in = north_df[north_df[\"Incoming or Outgoing\"] == \"Incoming\"]\n",
        "rep_calls = total_calls_in[[\"Rep ID\", \"Calls\"]]\n",
        "total_stats = rep_calls.groupby([\"Rep ID\"]).sum() # Final Table\n",
        "\n",
        "#  Table 3: Service Level Percentage created via merge\n",
        "service_level = pd.merge(quick_stats, total_stats, on=\"Rep ID\")\n",
        "\n",
        "# Create Percentage Column in Table 3\n",
        "service_level[\"Service Level Percent\"] = service_level[\"Calls_x\"]/service_level[\"Calls_y\"] * 100\n",
        "\n",
        "#Your Code Here:\n",
        "\n",
        "print(service_level)\n",
        "#printing out service_level tells me there are 4 columns of information, calls_x which should go on the x logically\n",
        "#Calls_y, which should go on the Y, the Rep IDs, and the Service Level Percentage\n",
        "\n"
      ]
    },
    {
      "cell_type": "markdown",
      "id": "f965e41a",
      "metadata": {
        "id": "f965e41a"
      },
      "source": [
        "#### Visualization 3: For each type of call purpose, how many calls are outgoing vs. incoming?\n",
        "##### Record your answer by double clicking here:\n",
        "\n",
        "> Chart style you chose and why:"
      ]
    },
    {
      "cell_type": "code",
      "execution_count": null,
      "id": "44096730",
      "metadata": {
        "id": "44096730",
        "colab": {
          "base_uri": "https://localhost:8080/",
          "height": 507
        },
        "outputId": "958e2e6c-96af-4734-a909-b066f3718c08"
      },
      "outputs": [
        {
          "output_type": "stream",
          "name": "stdout",
          "text": [
            "Call Purpose     Incoming or Outgoing\n",
            "Complaint        Incoming                 51\n",
            "Product Support  Outgoing                228\n",
            "                 Incoming                 82\n",
            "Sales Support    Outgoing                123\n",
            "                 Incoming                 75\n",
            "Name: Incoming or Outgoing, dtype: int64\n"
          ]
        },
        {
          "output_type": "display_data",
          "data": {
            "text/plain": [
              "<Figure size 1200x400 with 3 Axes>"
            ],
            "image/png": "[encoded data removed]"
          },
          "metadata": {}
        }
      ],
      "source": [
        "# Create visualization 3 here:\n",
        "# The three dictionaries, complaints, sales_support, and product_support, have the information you need\n",
        "\n",
        "purpose_group = df.groupby(\"Call Purpose\")\n",
        "call_purpose = [\"Complaint\", \"Product Support\", \"Sales Support\"]\n",
        "purpose_counts = purpose_group[\"Incoming or Outgoing\"].value_counts()\n",
        "print(purpose_counts)\n",
        "\n",
        "complaints = purpose_counts[\"Complaint\"].to_dict()\n",
        "sales_support = purpose_counts[\"Sales Support\"].to_dict()\n",
        "product_support = purpose_counts[\"Product Support\"].to_dict()\n",
        "\n",
        "#Your Code Here:\n",
        "fig, (ax1, ax2, ax3) = plt.subplots(1,3, figsize=(12, 4))\n",
        "\n",
        "complaints_labels = list(complaints.keys())\n",
        "complaints_values = list(complaints.values())\n",
        "\n",
        "colors0 = ['yellow','green']\n",
        "colors1 = ['green','yellow']\n",
        "\n",
        "ax1.pie(complaints_values, labels=complaints_labels, colors=colors0, autopct='%1.1f%%', textprops={'fontsize': 12, 'color': 'black', 'weight': 'bold'})\n",
        "\n",
        "\n",
        "sales_labels = list(sales_support.keys())\n",
        "sales_values = list(sales_support.values())\n",
        "\n",
        "ax2.pie(sales_values, labels=sales_labels, colors=colors1, autopct='%1.1f%%', textprops={'fontsize': 12, 'color': 'black', 'weight': 'bold'})\n",
        "\n",
        "\n",
        "product_labels = list(product_support.keys())\n",
        "product_values = list(product_support.values())\n",
        "\n",
        "ax3.pie(product_values, labels=product_labels, colors=colors1, autopct='%1.1f%%', textprops={'fontsize': 12, 'color': 'black', 'weight': 'bold'})\n",
        "\n",
        "ax1.set_title(\"Complaints\")\n",
        "ax2.set_title(\"Sales Support\")\n",
        "ax3.set_title(\"Product Support\")\n",
        "\n",
        "plt.tight_layout()\n",
        "plt.show()\n",
        "\n",
        "# Create the bar chart using Seaborn\n"
      ]
    },
    {
      "cell_type": "markdown",
      "metadata": {
        "id": "w9Yy6dLOZKig"
      },
      "source": [
        "<span style=\"background-color:orangered; color:orangered;\">- - - - - - - - - - - - - - - - - - - - - - - - - - - - - - - - - - - - - - - - - - - - - - - - - - - - - - - - - - - - - - - - - - - - - - - - - - - - - - - - - - - - - - - - -</span>"
      ],
      "id": "w9Yy6dLOZKig"
    },
    {
      "cell_type": "markdown",
      "id": "ea7ed568",
      "metadata": {
        "id": "ea7ed568"
      },
      "source": [
        "## Summarize Your Work\n",
        "\n",
        "With what you know now about the two call centers and the entire company, answer the following questions. Note that while this is subjective, you should include relevant data to back up your opinion.\n"
      ]
    },
    {
      "cell_type": "markdown",
      "id": "d2fc3d13",
      "metadata": {
        "id": "d2fc3d13"
      },
      "source": [
        "#### Summary Question 1:  Using KPIs such as average abandonment rate, service level and average speed of answer, in your opinion, which one of the two branches is operating more efficiently? Why?\n",
        "\n",
        "##### Record your answer by double clicking here:\n",
        "> Your Answer:\n",
        "\n"
      ]
    },
    {
      "cell_type": "markdown",
      "id": "489f28d6",
      "metadata": {
        "id": "489f28d6"
      },
      "source": [
        "#### Summary Question 2: Based on the number of reps in each branch and how quickly the reps are working, in your opinion, which branch would benefit from the extra help?\n",
        "\n",
        "##### Record your answer by double clicking here:\n",
        "> Your Answer:\n"
      ]
    },
    {
      "cell_type": "markdown",
      "id": "0b10a8c3",
      "metadata": {
        "id": "0b10a8c3"
      },
      "source": [
        "#### Summary Question 3: Now that you have explored the datasets, is there any data or information that you wish you had in this analysis?\n",
        "\n",
        "##### Record your answer by double clicking here:\n",
        "> Your Answer:\n"
      ]
    },
    {
      "cell_type": "markdown",
      "metadata": {
        "id": "y8hZTsZoZKig"
      },
      "source": [
        "<span style=\"background-color:orangered; color:orangered;\">- - - - - - - - - - - - - - - - - - - - - - - - - - - - - - - - - - - - - - - - - - - - - - - - - - - - - - - - - - - - - - - - - - - - - - - - - - - - - - - - - - - - - - - - -</span>"
      ],
      "id": "y8hZTsZoZKig"
    },
    {
      "cell_type": "markdown",
      "id": "ce16f43d",
      "metadata": {
        "id": "ce16f43d"
      },
      "source": [
        "## Bonus Mission\n",
        "Create a visualization that answers this question: For each call purpose, how many calls (incoming and outgoing) take place in each time block?\n",
        "##### Record your answer by double clicking here:\n",
        "\n",
        "> Chart style you chose and why:"
      ]
    },
    {
      "cell_type": "code",
      "execution_count": null,
      "id": "71b04f32",
      "metadata": {
        "id": "71b04f32"
      },
      "outputs": [],
      "source": [
        "# Create your Bonus Mission visualization here!\n",
        "call_times = df[[\"Time Block\", \"Call Purpose\", \"Incoming or Outgoing\", \"Calls\"]]\n",
        "\n",
        "# Use groupby to plot based on time blocks:\n",
        "\n",
        "# Use groupby and get_group to select which call purpose to plot:"
      ]
    }
  ],
  "metadata": {
    "kernelspec": {
      "display_name": "Python 3 (ipykernel)",
      "language": "python",
      "name": "python3"
    },
    "language_info": {
      "codemirror_mode": {
        "name": "ipython",
        "version": 3
      },
      "file_extension": ".py",
      "mimetype": "text/x-python",
      "name": "python",
      "nbconvert_exporter": "python",
      "pygments_lexer": "ipython3",
      "version": "3.9.12"
    },
    "colab": {
      "provenance": []
    }
  },
  "nbformat": 4,
  "nbformat_minor": 5
}